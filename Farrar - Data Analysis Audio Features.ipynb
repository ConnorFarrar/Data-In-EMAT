{
 "cells": [
  {
   "cell_type": "code",
   "execution_count": 93,
   "id": "38ea7b2f",
   "metadata": {},
   "outputs": [],
   "source": [
    "import requests\n",
    "import pandas as pd\n",
    "import base64\n",
    "import json\n",
    "import urllib"
   ]
  },
  {
   "cell_type": "code",
   "execution_count": 94,
   "id": "ca2518a1",
   "metadata": {},
   "outputs": [],
   "source": [
    "my_header = {\"User-Agent:Mozilla/5.0 (Macintosh; Intel Mac OS X 10_15_7) AppleWebKit/537.36 (KHTML, like Gecko) Chrome/116.0.0.0 Safari/537.36\"}"
   ]
  },
  {
   "cell_type": "code",
   "execution_count": 95,
   "id": "0ac35b78",
   "metadata": {},
   "outputs": [],
   "source": [
    "Client_ID = pd.read_csv('spotify_keys')['Client_ID'].iloc[0]"
   ]
  },
  {
   "cell_type": "code",
   "execution_count": 96,
   "id": "4ad8c4ff",
   "metadata": {},
   "outputs": [],
   "source": [
    "Client_Secret = pd.read_csv('spotify_keys')['Client_Secret'].iloc[0]"
   ]
  },
  {
   "cell_type": "code",
   "execution_count": 97,
   "id": "1e62b562",
   "metadata": {},
   "outputs": [],
   "source": [
    "client_cred = base64.b64encode(str(Client_ID + \":\" + Client_Secret).encode(\"ascii\"))"
   ]
  },
  {
   "cell_type": "code",
   "execution_count": 98,
   "id": "aa74469f",
   "metadata": {},
   "outputs": [],
   "source": [
    "# client_cred"
   ]
  },
  {
   "cell_type": "code",
   "execution_count": 99,
   "id": "2f7ae4ea",
   "metadata": {},
   "outputs": [],
   "source": [
    "headers = {\"Authorization\": \"Basic {}\".format(client_cred.decode(\"ascii\"))}"
   ]
  },
  {
   "cell_type": "code",
   "execution_count": 100,
   "id": "52a8b304",
   "metadata": {},
   "outputs": [],
   "source": [
    "payload = {'grant_type' : 'client_credentials'}\n",
    "url = 'https://accounts.spotify.com/api/token'"
   ]
  },
  {
   "cell_type": "code",
   "execution_count": 101,
   "id": "b3da6012",
   "metadata": {},
   "outputs": [],
   "source": [
    "session_key_response = requests.post(url = url, data = payload, headers = headers)"
   ]
  },
  {
   "cell_type": "code",
   "execution_count": 102,
   "id": "accee589",
   "metadata": {},
   "outputs": [
    {
     "data": {
      "text/plain": [
       "200"
      ]
     },
     "execution_count": 102,
     "metadata": {},
     "output_type": "execute_result"
    }
   ],
   "source": [
    "session_key_response.status_code"
   ]
  },
  {
   "cell_type": "code",
   "execution_count": 103,
   "id": "df9913bd",
   "metadata": {},
   "outputs": [],
   "source": [
    "# session_key_response.json()['access_token']"
   ]
  },
  {
   "cell_type": "code",
   "execution_count": 104,
   "id": "18afc509",
   "metadata": {},
   "outputs": [],
   "source": [
    "session_header_key = session_key_response.json()"
   ]
  },
  {
   "cell_type": "code",
   "execution_count": 105,
   "id": "fa49c8c1",
   "metadata": {},
   "outputs": [],
   "source": [
    "key = session_header_key['access_token']"
   ]
  },
  {
   "cell_type": "code",
   "execution_count": 106,
   "id": "9c5b4233",
   "metadata": {},
   "outputs": [],
   "source": [
    "session_headers = {\"Authorization\": \"Bearer {}\".format(key)}"
   ]
  },
  {
   "cell_type": "code",
   "execution_count": 107,
   "id": "780c6cd9",
   "metadata": {},
   "outputs": [],
   "source": [
    "queen_id = '7HVoV2lgVsmuiHsjbbUJB4'"
   ]
  },
  {
   "cell_type": "code",
   "execution_count": 108,
   "id": "2bf76954",
   "metadata": {},
   "outputs": [],
   "source": [
    "album_tracks_endpoint = \"https://api.spotify.com/v1/albums/{}/tracks\".format(queen_id)"
   ]
  },
  {
   "cell_type": "code",
   "execution_count": 109,
   "id": "a631de75",
   "metadata": {},
   "outputs": [],
   "source": [
    "queen_tracks = requests.get(album_tracks_endpoint, headers = session_headers)"
   ]
  },
  {
   "cell_type": "code",
   "execution_count": 110,
   "id": "3e90d874",
   "metadata": {},
   "outputs": [
    {
     "data": {
      "text/plain": [
       "200"
      ]
     },
     "execution_count": 110,
     "metadata": {},
     "output_type": "execute_result"
    }
   ],
   "source": [
    "queen_tracks.status_code"
   ]
  },
  {
   "cell_type": "code",
   "execution_count": 111,
   "id": "5bae52c7",
   "metadata": {},
   "outputs": [],
   "source": [
    "queen_dict = json.loads(queen_tracks.text)"
   ]
  },
  {
   "cell_type": "code",
   "execution_count": 112,
   "id": "c5275260",
   "metadata": {},
   "outputs": [
    {
     "data": {
      "text/plain": [
       "dict_keys(['href', 'items', 'limit', 'next', 'offset', 'previous', 'total'])"
      ]
     },
     "execution_count": 112,
     "metadata": {},
     "output_type": "execute_result"
    }
   ],
   "source": [
    "queen_dict.keys()"
   ]
  },
  {
   "cell_type": "code",
   "execution_count": 113,
   "id": "77d70d4c",
   "metadata": {},
   "outputs": [
    {
     "data": {
      "text/plain": [
       "dict_keys(['artists', 'available_markets', 'disc_number', 'duration_ms', 'explicit', 'external_urls', 'href', 'id', 'is_local', 'name', 'preview_url', 'track_number', 'type', 'uri'])"
      ]
     },
     "execution_count": 113,
     "metadata": {},
     "output_type": "execute_result"
    }
   ],
   "source": [
    "queen_dict['items'][0].keys()"
   ]
  },
  {
   "cell_type": "code",
   "execution_count": 114,
   "id": "3dcf4bc4",
   "metadata": {},
   "outputs": [],
   "source": [
    "queen_track_ids = [x['id'] for x in queen_dict['items']]"
   ]
  },
  {
   "cell_type": "code",
   "execution_count": 115,
   "id": "da3a6fe6",
   "metadata": {},
   "outputs": [
    {
     "data": {
      "text/plain": [
       "['7jW1qSS0NJciZQ4lzPCSwk',\n",
       " '5evxr7Opn6r6XDgzDMGVo7',\n",
       " '4WX7njDAz4cDSDPr8Vcj6j',\n",
       " '2RCnr8CRWxBVSnXBur7CIw',\n",
       " '02MiyVckOBtygUOEDnV7Pd',\n",
       " '28d6RWNDS3fiJ8doaINVAA',\n",
       " '1wY45lwOx8LORIpXj0VR3M',\n",
       " '7uJXaeFNQ40vKSGRwtXd5L',\n",
       " '2Rua8o4ZNjPx3Q7lHYUgml',\n",
       " '13qGcSeDHrvDKml7xVdpKy',\n",
       " '5eIDxmWYxRA0HJBYM9bIIS',\n",
       " '4H77L5Gl0DROXPqKtQivwF']"
      ]
     },
     "execution_count": 115,
     "metadata": {},
     "output_type": "execute_result"
    }
   ],
   "source": [
    "queen_track_ids"
   ]
  },
  {
   "cell_type": "code",
   "execution_count": 116,
   "id": "7e1a71b8",
   "metadata": {},
   "outputs": [
    {
     "data": {
      "text/plain": [
       "'7jW1qSS0NJciZQ4lzPCSwk,5evxr7Opn6r6XDgzDMGVo7,4WX7njDAz4cDSDPr8Vcj6j,2RCnr8CRWxBVSnXBur7CIw,02MiyVckOBtygUOEDnV7Pd,28d6RWNDS3fiJ8doaINVAA,1wY45lwOx8LORIpXj0VR3M,7uJXaeFNQ40vKSGRwtXd5L,2Rua8o4ZNjPx3Q7lHYUgml,13qGcSeDHrvDKml7xVdpKy,5eIDxmWYxRA0HJBYM9bIIS,4H77L5Gl0DROXPqKtQivwF'"
      ]
     },
     "execution_count": 116,
     "metadata": {},
     "output_type": "execute_result"
    }
   ],
   "source": [
    "queen_track_strings = ','.join(str(x) for x in queen_track_ids)\n",
    "queen_track_strings"
   ]
  },
  {
   "cell_type": "code",
   "execution_count": 117,
   "id": "77456508",
   "metadata": {},
   "outputs": [],
   "source": [
    "track_features_endpoint = \"https://api.spotify.com/v1/audio-features?ids={}\".format(queen_track_strings)"
   ]
  },
  {
   "cell_type": "code",
   "execution_count": 118,
   "id": "859db9de",
   "metadata": {},
   "outputs": [],
   "source": [
    "queen_features = requests.get(track_features_endpoint, headers = session_headers)"
   ]
  },
  {
   "cell_type": "code",
   "execution_count": 119,
   "id": "f14f0594",
   "metadata": {},
   "outputs": [
    {
     "data": {
      "text/plain": [
       "200"
      ]
     },
     "execution_count": 119,
     "metadata": {},
     "output_type": "execute_result"
    }
   ],
   "source": [
    "queen_features.status_code"
   ]
  },
  {
   "cell_type": "code",
   "execution_count": 120,
   "id": "e726958d",
   "metadata": {},
   "outputs": [],
   "source": [
    "queen_dict = json.loads(queen_features.text)"
   ]
  },
  {
   "cell_type": "code",
   "execution_count": 121,
   "id": "d20e8205",
   "metadata": {},
   "outputs": [
    {
     "data": {
      "text/plain": [
       "dict_keys(['audio_features'])"
      ]
     },
     "execution_count": 121,
     "metadata": {},
     "output_type": "execute_result"
    }
   ],
   "source": [
    "queen_dict.keys()"
   ]
  },
  {
   "cell_type": "code",
   "execution_count": 122,
   "id": "6e5d19fd",
   "metadata": {},
   "outputs": [
    {
     "data": {
      "text/plain": [
       "{'danceability': 0.395,\n",
       " 'energy': 0.698,\n",
       " 'key': 2,\n",
       " 'loudness': -6.244,\n",
       " 'mode': 1,\n",
       " 'speechiness': 0.0573,\n",
       " 'acousticness': 0.334,\n",
       " 'instrumentalness': 6.44e-05,\n",
       " 'liveness': 0.155,\n",
       " 'valence': 0.455,\n",
       " 'tempo': 124.66,\n",
       " 'type': 'audio_features',\n",
       " 'id': '7jW1qSS0NJciZQ4lzPCSwk',\n",
       " 'uri': 'spotify:track:7jW1qSS0NJciZQ4lzPCSwk',\n",
       " 'track_href': 'https://api.spotify.com/v1/tracks/7jW1qSS0NJciZQ4lzPCSwk',\n",
       " 'analysis_url': 'https://api.spotify.com/v1/audio-analysis/7jW1qSS0NJciZQ4lzPCSwk',\n",
       " 'duration_ms': 223173,\n",
       " 'time_signature': 4}"
      ]
     },
     "execution_count": 122,
     "metadata": {},
     "output_type": "execute_result"
    }
   ],
   "source": [
    "queen_dict['audio_features'][0]"
   ]
  },
  {
   "cell_type": "code",
   "execution_count": 123,
   "id": "94a74a4a",
   "metadata": {},
   "outputs": [],
   "source": [
    "queen_df = pd.DataFrame(queen_dict['audio_features'])"
   ]
  },
  {
   "cell_type": "code",
   "execution_count": 124,
   "id": "7a2cff59",
   "metadata": {},
   "outputs": [
    {
     "data": {
      "text/html": [
       "<div>\n",
       "<style scoped>\n",
       "    .dataframe tbody tr th:only-of-type {\n",
       "        vertical-align: middle;\n",
       "    }\n",
       "\n",
       "    .dataframe tbody tr th {\n",
       "        vertical-align: top;\n",
       "    }\n",
       "\n",
       "    .dataframe thead th {\n",
       "        text-align: right;\n",
       "    }\n",
       "</style>\n",
       "<table border=\"1\" class=\"dataframe\">\n",
       "  <thead>\n",
       "    <tr style=\"text-align: right;\">\n",
       "      <th></th>\n",
       "      <th>danceability</th>\n",
       "      <th>energy</th>\n",
       "      <th>key</th>\n",
       "      <th>loudness</th>\n",
       "      <th>mode</th>\n",
       "      <th>speechiness</th>\n",
       "      <th>acousticness</th>\n",
       "      <th>instrumentalness</th>\n",
       "      <th>liveness</th>\n",
       "      <th>valence</th>\n",
       "      <th>tempo</th>\n",
       "      <th>type</th>\n",
       "      <th>id</th>\n",
       "      <th>uri</th>\n",
       "      <th>track_href</th>\n",
       "      <th>analysis_url</th>\n",
       "      <th>duration_ms</th>\n",
       "      <th>time_signature</th>\n",
       "    </tr>\n",
       "  </thead>\n",
       "  <tbody>\n",
       "    <tr>\n",
       "      <th>0</th>\n",
       "      <td>0.395</td>\n",
       "      <td>0.698</td>\n",
       "      <td>2</td>\n",
       "      <td>-6.244</td>\n",
       "      <td>1</td>\n",
       "      <td>0.0573</td>\n",
       "      <td>0.3340</td>\n",
       "      <td>0.000064</td>\n",
       "      <td>0.1550</td>\n",
       "      <td>0.455</td>\n",
       "      <td>124.660</td>\n",
       "      <td>audio_features</td>\n",
       "      <td>7jW1qSS0NJciZQ4lzPCSwk</td>\n",
       "      <td>spotify:track:7jW1qSS0NJciZQ4lzPCSwk</td>\n",
       "      <td>https://api.spotify.com/v1/tracks/7jW1qSS0NJci...</td>\n",
       "      <td>https://api.spotify.com/v1/audio-analysis/7jW1...</td>\n",
       "      <td>223173</td>\n",
       "      <td>4</td>\n",
       "    </tr>\n",
       "    <tr>\n",
       "      <th>1</th>\n",
       "      <td>0.643</td>\n",
       "      <td>0.579</td>\n",
       "      <td>3</td>\n",
       "      <td>-9.165</td>\n",
       "      <td>1</td>\n",
       "      <td>0.0555</td>\n",
       "      <td>0.4450</td>\n",
       "      <td>0.001070</td>\n",
       "      <td>0.1090</td>\n",
       "      <td>0.712</td>\n",
       "      <td>131.901</td>\n",
       "      <td>audio_features</td>\n",
       "      <td>5evxr7Opn6r6XDgzDMGVo7</td>\n",
       "      <td>spotify:track:5evxr7Opn6r6XDgzDMGVo7</td>\n",
       "      <td>https://api.spotify.com/v1/tracks/5evxr7Opn6r6...</td>\n",
       "      <td>https://api.spotify.com/v1/audio-analysis/5evx...</td>\n",
       "      <td>67400</td>\n",
       "      <td>4</td>\n",
       "    </tr>\n",
       "    <tr>\n",
       "      <th>2</th>\n",
       "      <td>0.299</td>\n",
       "      <td>0.818</td>\n",
       "      <td>4</td>\n",
       "      <td>-8.542</td>\n",
       "      <td>0</td>\n",
       "      <td>0.0683</td>\n",
       "      <td>0.0129</td>\n",
       "      <td>0.000009</td>\n",
       "      <td>0.2020</td>\n",
       "      <td>0.340</td>\n",
       "      <td>143.583</td>\n",
       "      <td>audio_features</td>\n",
       "      <td>4WX7njDAz4cDSDPr8Vcj6j</td>\n",
       "      <td>spotify:track:4WX7njDAz4cDSDPr8Vcj6j</td>\n",
       "      <td>https://api.spotify.com/v1/tracks/4WX7njDAz4cD...</td>\n",
       "      <td>https://api.spotify.com/v1/audio-analysis/4WX7...</td>\n",
       "      <td>184893</td>\n",
       "      <td>3</td>\n",
       "    </tr>\n",
       "    <tr>\n",
       "      <th>3</th>\n",
       "      <td>0.518</td>\n",
       "      <td>0.761</td>\n",
       "      <td>0</td>\n",
       "      <td>-7.025</td>\n",
       "      <td>1</td>\n",
       "      <td>0.0452</td>\n",
       "      <td>0.1580</td>\n",
       "      <td>0.007650</td>\n",
       "      <td>0.0715</td>\n",
       "      <td>0.576</td>\n",
       "      <td>118.738</td>\n",
       "      <td>audio_features</td>\n",
       "      <td>2RCnr8CRWxBVSnXBur7CIw</td>\n",
       "      <td>spotify:track:2RCnr8CRWxBVSnXBur7CIw</td>\n",
       "      <td>https://api.spotify.com/v1/tracks/2RCnr8CRWxBV...</td>\n",
       "      <td>https://api.spotify.com/v1/audio-analysis/2RCn...</td>\n",
       "      <td>170800</td>\n",
       "      <td>4</td>\n",
       "    </tr>\n",
       "    <tr>\n",
       "      <th>4</th>\n",
       "      <td>0.519</td>\n",
       "      <td>0.584</td>\n",
       "      <td>8</td>\n",
       "      <td>-9.670</td>\n",
       "      <td>1</td>\n",
       "      <td>0.0270</td>\n",
       "      <td>0.0275</td>\n",
       "      <td>0.000000</td>\n",
       "      <td>0.1110</td>\n",
       "      <td>0.336</td>\n",
       "      <td>101.632</td>\n",
       "      <td>audio_features</td>\n",
       "      <td>02MiyVckOBtygUOEDnV7Pd</td>\n",
       "      <td>spotify:track:02MiyVckOBtygUOEDnV7Pd</td>\n",
       "      <td>https://api.spotify.com/v1/tracks/02MiyVckOBty...</td>\n",
       "      <td>https://api.spotify.com/v1/audio-analysis/02Mi...</td>\n",
       "      <td>210800</td>\n",
       "      <td>4</td>\n",
       "    </tr>\n",
       "    <tr>\n",
       "      <th>5</th>\n",
       "      <td>0.310</td>\n",
       "      <td>0.859</td>\n",
       "      <td>9</td>\n",
       "      <td>-8.937</td>\n",
       "      <td>1</td>\n",
       "      <td>0.0754</td>\n",
       "      <td>0.0127</td>\n",
       "      <td>0.000046</td>\n",
       "      <td>0.5960</td>\n",
       "      <td>0.593</td>\n",
       "      <td>119.006</td>\n",
       "      <td>audio_features</td>\n",
       "      <td>28d6RWNDS3fiJ8doaINVAA</td>\n",
       "      <td>spotify:track:28d6RWNDS3fiJ8doaINVAA</td>\n",
       "      <td>https://api.spotify.com/v1/tracks/28d6RWNDS3fi...</td>\n",
       "      <td>https://api.spotify.com/v1/audio-analysis/28d6...</td>\n",
       "      <td>242133</td>\n",
       "      <td>3</td>\n",
       "    </tr>\n",
       "    <tr>\n",
       "      <th>6</th>\n",
       "      <td>0.444</td>\n",
       "      <td>0.700</td>\n",
       "      <td>0</td>\n",
       "      <td>-5.494</td>\n",
       "      <td>1</td>\n",
       "      <td>0.1400</td>\n",
       "      <td>0.3860</td>\n",
       "      <td>0.000000</td>\n",
       "      <td>0.2530</td>\n",
       "      <td>0.761</td>\n",
       "      <td>167.538</td>\n",
       "      <td>audio_features</td>\n",
       "      <td>1wY45lwOx8LORIpXj0VR3M</td>\n",
       "      <td>spotify:track:1wY45lwOx8LORIpXj0VR3M</td>\n",
       "      <td>https://api.spotify.com/v1/tracks/1wY45lwOx8LO...</td>\n",
       "      <td>https://api.spotify.com/v1/audio-analysis/1wY4...</td>\n",
       "      <td>134133</td>\n",
       "      <td>4</td>\n",
       "    </tr>\n",
       "    <tr>\n",
       "      <th>7</th>\n",
       "      <td>0.397</td>\n",
       "      <td>0.451</td>\n",
       "      <td>2</td>\n",
       "      <td>-9.812</td>\n",
       "      <td>0</td>\n",
       "      <td>0.0461</td>\n",
       "      <td>0.3160</td>\n",
       "      <td>0.000059</td>\n",
       "      <td>0.3470</td>\n",
       "      <td>0.178</td>\n",
       "      <td>139.284</td>\n",
       "      <td>audio_features</td>\n",
       "      <td>7uJXaeFNQ40vKSGRwtXd5L</td>\n",
       "      <td>spotify:track:7uJXaeFNQ40vKSGRwtXd5L</td>\n",
       "      <td>https://api.spotify.com/v1/tracks/7uJXaeFNQ40v...</td>\n",
       "      <td>https://api.spotify.com/v1/audio-analysis/7uJX...</td>\n",
       "      <td>500960</td>\n",
       "      <td>4</td>\n",
       "    </tr>\n",
       "    <tr>\n",
       "      <th>8</th>\n",
       "      <td>0.331</td>\n",
       "      <td>0.183</td>\n",
       "      <td>5</td>\n",
       "      <td>-11.630</td>\n",
       "      <td>1</td>\n",
       "      <td>0.0287</td>\n",
       "      <td>0.9360</td>\n",
       "      <td>0.000009</td>\n",
       "      <td>0.1150</td>\n",
       "      <td>0.260</td>\n",
       "      <td>79.195</td>\n",
       "      <td>audio_features</td>\n",
       "      <td>2Rua8o4ZNjPx3Q7lHYUgml</td>\n",
       "      <td>spotify:track:2Rua8o4ZNjPx3Q7lHYUgml</td>\n",
       "      <td>https://api.spotify.com/v1/tracks/2Rua8o4ZNjPx...</td>\n",
       "      <td>https://api.spotify.com/v1/audio-analysis/2Rua...</td>\n",
       "      <td>217400</td>\n",
       "      <td>4</td>\n",
       "    </tr>\n",
       "    <tr>\n",
       "      <th>9</th>\n",
       "      <td>0.500</td>\n",
       "      <td>0.418</td>\n",
       "      <td>6</td>\n",
       "      <td>-11.277</td>\n",
       "      <td>1</td>\n",
       "      <td>0.0444</td>\n",
       "      <td>0.7790</td>\n",
       "      <td>0.000018</td>\n",
       "      <td>0.3460</td>\n",
       "      <td>0.510</td>\n",
       "      <td>183.067</td>\n",
       "      <td>audio_features</td>\n",
       "      <td>13qGcSeDHrvDKml7xVdpKy</td>\n",
       "      <td>spotify:track:13qGcSeDHrvDKml7xVdpKy</td>\n",
       "      <td>https://api.spotify.com/v1/tracks/13qGcSeDHrvD...</td>\n",
       "      <td>https://api.spotify.com/v1/audio-analysis/13qG...</td>\n",
       "      <td>203440</td>\n",
       "      <td>4</td>\n",
       "    </tr>\n",
       "    <tr>\n",
       "      <th>10</th>\n",
       "      <td>0.392</td>\n",
       "      <td>0.402</td>\n",
       "      <td>0</td>\n",
       "      <td>-9.961</td>\n",
       "      <td>0</td>\n",
       "      <td>0.0536</td>\n",
       "      <td>0.2880</td>\n",
       "      <td>0.000000</td>\n",
       "      <td>0.2430</td>\n",
       "      <td>0.228</td>\n",
       "      <td>143.883</td>\n",
       "      <td>audio_features</td>\n",
       "      <td>5eIDxmWYxRA0HJBYM9bIIS</td>\n",
       "      <td>spotify:track:5eIDxmWYxRA0HJBYM9bIIS</td>\n",
       "      <td>https://api.spotify.com/v1/tracks/5eIDxmWYxRA0...</td>\n",
       "      <td>https://api.spotify.com/v1/audio-analysis/5eID...</td>\n",
       "      <td>354320</td>\n",
       "      <td>4</td>\n",
       "    </tr>\n",
       "    <tr>\n",
       "      <th>11</th>\n",
       "      <td>0.104</td>\n",
       "      <td>0.293</td>\n",
       "      <td>7</td>\n",
       "      <td>-15.240</td>\n",
       "      <td>1</td>\n",
       "      <td>0.0327</td>\n",
       "      <td>0.6660</td>\n",
       "      <td>0.889000</td>\n",
       "      <td>0.3100</td>\n",
       "      <td>0.230</td>\n",
       "      <td>90.742</td>\n",
       "      <td>audio_features</td>\n",
       "      <td>4H77L5Gl0DROXPqKtQivwF</td>\n",
       "      <td>spotify:track:4H77L5Gl0DROXPqKtQivwF</td>\n",
       "      <td>https://api.spotify.com/v1/tracks/4H77L5Gl0DRO...</td>\n",
       "      <td>https://api.spotify.com/v1/audio-analysis/4H77...</td>\n",
       "      <td>75347</td>\n",
       "      <td>4</td>\n",
       "    </tr>\n",
       "  </tbody>\n",
       "</table>\n",
       "</div>"
      ],
      "text/plain": [
       "    danceability  energy  key  loudness  mode  speechiness  acousticness  \\\n",
       "0          0.395   0.698    2    -6.244     1       0.0573        0.3340   \n",
       "1          0.643   0.579    3    -9.165     1       0.0555        0.4450   \n",
       "2          0.299   0.818    4    -8.542     0       0.0683        0.0129   \n",
       "3          0.518   0.761    0    -7.025     1       0.0452        0.1580   \n",
       "4          0.519   0.584    8    -9.670     1       0.0270        0.0275   \n",
       "5          0.310   0.859    9    -8.937     1       0.0754        0.0127   \n",
       "6          0.444   0.700    0    -5.494     1       0.1400        0.3860   \n",
       "7          0.397   0.451    2    -9.812     0       0.0461        0.3160   \n",
       "8          0.331   0.183    5   -11.630     1       0.0287        0.9360   \n",
       "9          0.500   0.418    6   -11.277     1       0.0444        0.7790   \n",
       "10         0.392   0.402    0    -9.961     0       0.0536        0.2880   \n",
       "11         0.104   0.293    7   -15.240     1       0.0327        0.6660   \n",
       "\n",
       "    instrumentalness  liveness  valence    tempo            type  \\\n",
       "0           0.000064    0.1550    0.455  124.660  audio_features   \n",
       "1           0.001070    0.1090    0.712  131.901  audio_features   \n",
       "2           0.000009    0.2020    0.340  143.583  audio_features   \n",
       "3           0.007650    0.0715    0.576  118.738  audio_features   \n",
       "4           0.000000    0.1110    0.336  101.632  audio_features   \n",
       "5           0.000046    0.5960    0.593  119.006  audio_features   \n",
       "6           0.000000    0.2530    0.761  167.538  audio_features   \n",
       "7           0.000059    0.3470    0.178  139.284  audio_features   \n",
       "8           0.000009    0.1150    0.260   79.195  audio_features   \n",
       "9           0.000018    0.3460    0.510  183.067  audio_features   \n",
       "10          0.000000    0.2430    0.228  143.883  audio_features   \n",
       "11          0.889000    0.3100    0.230   90.742  audio_features   \n",
       "\n",
       "                        id                                   uri  \\\n",
       "0   7jW1qSS0NJciZQ4lzPCSwk  spotify:track:7jW1qSS0NJciZQ4lzPCSwk   \n",
       "1   5evxr7Opn6r6XDgzDMGVo7  spotify:track:5evxr7Opn6r6XDgzDMGVo7   \n",
       "2   4WX7njDAz4cDSDPr8Vcj6j  spotify:track:4WX7njDAz4cDSDPr8Vcj6j   \n",
       "3   2RCnr8CRWxBVSnXBur7CIw  spotify:track:2RCnr8CRWxBVSnXBur7CIw   \n",
       "4   02MiyVckOBtygUOEDnV7Pd  spotify:track:02MiyVckOBtygUOEDnV7Pd   \n",
       "5   28d6RWNDS3fiJ8doaINVAA  spotify:track:28d6RWNDS3fiJ8doaINVAA   \n",
       "6   1wY45lwOx8LORIpXj0VR3M  spotify:track:1wY45lwOx8LORIpXj0VR3M   \n",
       "7   7uJXaeFNQ40vKSGRwtXd5L  spotify:track:7uJXaeFNQ40vKSGRwtXd5L   \n",
       "8   2Rua8o4ZNjPx3Q7lHYUgml  spotify:track:2Rua8o4ZNjPx3Q7lHYUgml   \n",
       "9   13qGcSeDHrvDKml7xVdpKy  spotify:track:13qGcSeDHrvDKml7xVdpKy   \n",
       "10  5eIDxmWYxRA0HJBYM9bIIS  spotify:track:5eIDxmWYxRA0HJBYM9bIIS   \n",
       "11  4H77L5Gl0DROXPqKtQivwF  spotify:track:4H77L5Gl0DROXPqKtQivwF   \n",
       "\n",
       "                                           track_href  \\\n",
       "0   https://api.spotify.com/v1/tracks/7jW1qSS0NJci...   \n",
       "1   https://api.spotify.com/v1/tracks/5evxr7Opn6r6...   \n",
       "2   https://api.spotify.com/v1/tracks/4WX7njDAz4cD...   \n",
       "3   https://api.spotify.com/v1/tracks/2RCnr8CRWxBV...   \n",
       "4   https://api.spotify.com/v1/tracks/02MiyVckOBty...   \n",
       "5   https://api.spotify.com/v1/tracks/28d6RWNDS3fi...   \n",
       "6   https://api.spotify.com/v1/tracks/1wY45lwOx8LO...   \n",
       "7   https://api.spotify.com/v1/tracks/7uJXaeFNQ40v...   \n",
       "8   https://api.spotify.com/v1/tracks/2Rua8o4ZNjPx...   \n",
       "9   https://api.spotify.com/v1/tracks/13qGcSeDHrvD...   \n",
       "10  https://api.spotify.com/v1/tracks/5eIDxmWYxRA0...   \n",
       "11  https://api.spotify.com/v1/tracks/4H77L5Gl0DRO...   \n",
       "\n",
       "                                         analysis_url  duration_ms  \\\n",
       "0   https://api.spotify.com/v1/audio-analysis/7jW1...       223173   \n",
       "1   https://api.spotify.com/v1/audio-analysis/5evx...        67400   \n",
       "2   https://api.spotify.com/v1/audio-analysis/4WX7...       184893   \n",
       "3   https://api.spotify.com/v1/audio-analysis/2RCn...       170800   \n",
       "4   https://api.spotify.com/v1/audio-analysis/02Mi...       210800   \n",
       "5   https://api.spotify.com/v1/audio-analysis/28d6...       242133   \n",
       "6   https://api.spotify.com/v1/audio-analysis/1wY4...       134133   \n",
       "7   https://api.spotify.com/v1/audio-analysis/7uJX...       500960   \n",
       "8   https://api.spotify.com/v1/audio-analysis/2Rua...       217400   \n",
       "9   https://api.spotify.com/v1/audio-analysis/13qG...       203440   \n",
       "10  https://api.spotify.com/v1/audio-analysis/5eID...       354320   \n",
       "11  https://api.spotify.com/v1/audio-analysis/4H77...        75347   \n",
       "\n",
       "    time_signature  \n",
       "0                4  \n",
       "1                4  \n",
       "2                3  \n",
       "3                4  \n",
       "4                4  \n",
       "5                3  \n",
       "6                4  \n",
       "7                4  \n",
       "8                4  \n",
       "9                4  \n",
       "10               4  \n",
       "11               4  "
      ]
     },
     "execution_count": 124,
     "metadata": {},
     "output_type": "execute_result"
    }
   ],
   "source": [
    "queen_df"
   ]
  },
  {
   "cell_type": "code",
   "execution_count": 125,
   "id": "56801301",
   "metadata": {},
   "outputs": [
    {
     "name": "stdout",
     "output_type": "stream",
     "text": [
      "200\n",
      "0RbcDELsGTciLeMGsSdJAc,1KuVdyg8d6NlRhbpHxg5UF,4Y6GIje3GErVRIq1Ff5BJq,0wSmZykDgah7GfaUNZUZCb,6ubPFMzlIg73d1jzzWcC8B,4UyAtnwhaKv7EG1BdkBYRI,3iLk4Ii9EzNo4CIKpmAkB1,7eIODQbTgKeNawQtowZJEM,3AXurFcVRfTGxXBVpqLY2d,7A8iUf6fZZcrnnurw7VKSK,1U5dJjrL6yq7IH6keAyWOe,3POYMPJ0HJGtBc7aO2H7QV,50nZ2pvMssa7zcSI8ZgARe\n"
     ]
    }
   ],
   "source": [
    "cte_id = '2VuZJsJBPLwg9BeQFQle8G'\n",
    "album_tracks_endpoint = \"https://api.spotify.com/v1/albums/{}/tracks\".format(cte_id)\n",
    "cte_tracks = requests.get(album_tracks_endpoint, headers = session_headers)\n",
    "print(cte_tracks.status_code)\n",
    "cte_dict = json.loads(cte_tracks.text)\n",
    "cte_track_ids = [x['id'] for x in cte_dict['items']]\n",
    "cte_track_strings = ','.join(str(x) for x in cte_track_ids)\n",
    "print(cte_track_strings)\n",
    "track_features_endpoint = \"https://api.spotify.com/v1/audio-features?ids={}\".format(cte_track_strings)"
   ]
  },
  {
   "cell_type": "code",
   "execution_count": 126,
   "id": "b69f8744",
   "metadata": {},
   "outputs": [
    {
     "data": {
      "text/plain": [
       "200"
      ]
     },
     "execution_count": 126,
     "metadata": {},
     "output_type": "execute_result"
    }
   ],
   "source": [
    "cte_features = requests.get(track_features_endpoint, headers = session_headers)\n",
    "cte_features.status_code"
   ]
  },
  {
   "cell_type": "code",
   "execution_count": 127,
   "id": "5ee328c3",
   "metadata": {},
   "outputs": [
    {
     "data": {
      "text/plain": [
       "{'danceability': 0.52,\n",
       " 'energy': 0.931,\n",
       " 'key': 4,\n",
       " 'loudness': -3.051,\n",
       " 'mode': 1,\n",
       " 'speechiness': 0.0969,\n",
       " 'acousticness': 0.0018,\n",
       " 'instrumentalness': 0.000306,\n",
       " 'liveness': 0.115,\n",
       " 'valence': 0.557,\n",
       " 'tempo': 166.018,\n",
       " 'type': 'audio_features',\n",
       " 'id': '0RbcDELsGTciLeMGsSdJAc',\n",
       " 'uri': 'spotify:track:0RbcDELsGTciLeMGsSdJAc',\n",
       " 'track_href': 'https://api.spotify.com/v1/tracks/0RbcDELsGTciLeMGsSdJAc',\n",
       " 'analysis_url': 'https://api.spotify.com/v1/audio-analysis/0RbcDELsGTciLeMGsSdJAc',\n",
       " 'duration_ms': 163200,\n",
       " 'time_signature': 4}"
      ]
     },
     "execution_count": 127,
     "metadata": {},
     "output_type": "execute_result"
    }
   ],
   "source": [
    "cte_dict = json.loads(cte_features.text)\n",
    "cte_dict['audio_features'][0]"
   ]
  },
  {
   "cell_type": "code",
   "execution_count": 128,
   "id": "94036836",
   "metadata": {},
   "outputs": [],
   "source": [
    "cte_df = pd.DataFrame(cte_dict['audio_features'])"
   ]
  },
  {
   "cell_type": "code",
   "execution_count": 129,
   "id": "b5c8f7d5",
   "metadata": {},
   "outputs": [
    {
     "data": {
      "text/html": [
       "<div>\n",
       "<style scoped>\n",
       "    .dataframe tbody tr th:only-of-type {\n",
       "        vertical-align: middle;\n",
       "    }\n",
       "\n",
       "    .dataframe tbody tr th {\n",
       "        vertical-align: top;\n",
       "    }\n",
       "\n",
       "    .dataframe thead th {\n",
       "        text-align: right;\n",
       "    }\n",
       "</style>\n",
       "<table border=\"1\" class=\"dataframe\">\n",
       "  <thead>\n",
       "    <tr style=\"text-align: right;\">\n",
       "      <th></th>\n",
       "      <th>danceability</th>\n",
       "      <th>energy</th>\n",
       "      <th>key</th>\n",
       "      <th>loudness</th>\n",
       "      <th>mode</th>\n",
       "      <th>speechiness</th>\n",
       "      <th>acousticness</th>\n",
       "      <th>instrumentalness</th>\n",
       "      <th>liveness</th>\n",
       "      <th>valence</th>\n",
       "      <th>tempo</th>\n",
       "      <th>type</th>\n",
       "      <th>id</th>\n",
       "      <th>uri</th>\n",
       "      <th>track_href</th>\n",
       "      <th>analysis_url</th>\n",
       "      <th>duration_ms</th>\n",
       "      <th>time_signature</th>\n",
       "    </tr>\n",
       "  </thead>\n",
       "  <tbody>\n",
       "    <tr>\n",
       "      <th>0</th>\n",
       "      <td>0.520</td>\n",
       "      <td>0.931</td>\n",
       "      <td>4</td>\n",
       "      <td>-3.051</td>\n",
       "      <td>1</td>\n",
       "      <td>0.0969</td>\n",
       "      <td>0.001800</td>\n",
       "      <td>0.000306</td>\n",
       "      <td>0.1150</td>\n",
       "      <td>0.5570</td>\n",
       "      <td>166.018</td>\n",
       "      <td>audio_features</td>\n",
       "      <td>0RbcDELsGTciLeMGsSdJAc</td>\n",
       "      <td>spotify:track:0RbcDELsGTciLeMGsSdJAc</td>\n",
       "      <td>https://api.spotify.com/v1/tracks/0RbcDELsGTci...</td>\n",
       "      <td>https://api.spotify.com/v1/audio-analysis/0Rbc...</td>\n",
       "      <td>163200</td>\n",
       "      <td>4</td>\n",
       "    </tr>\n",
       "    <tr>\n",
       "      <th>1</th>\n",
       "      <td>0.668</td>\n",
       "      <td>0.913</td>\n",
       "      <td>9</td>\n",
       "      <td>-3.097</td>\n",
       "      <td>1</td>\n",
       "      <td>0.0348</td>\n",
       "      <td>0.011900</td>\n",
       "      <td>0.000007</td>\n",
       "      <td>0.1110</td>\n",
       "      <td>0.9330</td>\n",
       "      <td>132.039</td>\n",
       "      <td>audio_features</td>\n",
       "      <td>1KuVdyg8d6NlRhbpHxg5UF</td>\n",
       "      <td>spotify:track:1KuVdyg8d6NlRhbpHxg5UF</td>\n",
       "      <td>https://api.spotify.com/v1/tracks/1KuVdyg8d6Nl...</td>\n",
       "      <td>https://api.spotify.com/v1/audio-analysis/1KuV...</td>\n",
       "      <td>219053</td>\n",
       "      <td>4</td>\n",
       "    </tr>\n",
       "    <tr>\n",
       "      <th>2</th>\n",
       "      <td>0.705</td>\n",
       "      <td>0.728</td>\n",
       "      <td>4</td>\n",
       "      <td>-3.184</td>\n",
       "      <td>0</td>\n",
       "      <td>0.0350</td>\n",
       "      <td>0.001220</td>\n",
       "      <td>0.069300</td>\n",
       "      <td>0.0753</td>\n",
       "      <td>0.9660</td>\n",
       "      <td>109.991</td>\n",
       "      <td>audio_features</td>\n",
       "      <td>4Y6GIje3GErVRIq1Ff5BJq</td>\n",
       "      <td>spotify:track:4Y6GIje3GErVRIq1Ff5BJq</td>\n",
       "      <td>https://api.spotify.com/v1/tracks/4Y6GIje3GErV...</td>\n",
       "      <td>https://api.spotify.com/v1/audio-analysis/4Y6G...</td>\n",
       "      <td>226533</td>\n",
       "      <td>4</td>\n",
       "    </tr>\n",
       "    <tr>\n",
       "      <th>3</th>\n",
       "      <td>0.601</td>\n",
       "      <td>0.946</td>\n",
       "      <td>4</td>\n",
       "      <td>-2.298</td>\n",
       "      <td>0</td>\n",
       "      <td>0.0656</td>\n",
       "      <td>0.066100</td>\n",
       "      <td>0.000011</td>\n",
       "      <td>0.3880</td>\n",
       "      <td>0.5800</td>\n",
       "      <td>141.929</td>\n",
       "      <td>audio_features</td>\n",
       "      <td>0wSmZykDgah7GfaUNZUZCb</td>\n",
       "      <td>spotify:track:0wSmZykDgah7GfaUNZUZCb</td>\n",
       "      <td>https://api.spotify.com/v1/tracks/0wSmZykDgah7...</td>\n",
       "      <td>https://api.spotify.com/v1/audio-analysis/0wSm...</td>\n",
       "      <td>208133</td>\n",
       "      <td>4</td>\n",
       "    </tr>\n",
       "    <tr>\n",
       "      <th>4</th>\n",
       "      <td>0.539</td>\n",
       "      <td>0.788</td>\n",
       "      <td>9</td>\n",
       "      <td>-3.227</td>\n",
       "      <td>0</td>\n",
       "      <td>0.0396</td>\n",
       "      <td>0.008900</td>\n",
       "      <td>0.000000</td>\n",
       "      <td>0.2900</td>\n",
       "      <td>0.3570</td>\n",
       "      <td>159.986</td>\n",
       "      <td>audio_features</td>\n",
       "      <td>6ubPFMzlIg73d1jzzWcC8B</td>\n",
       "      <td>spotify:track:6ubPFMzlIg73d1jzzWcC8B</td>\n",
       "      <td>https://api.spotify.com/v1/tracks/6ubPFMzlIg73...</td>\n",
       "      <td>https://api.spotify.com/v1/audio-analysis/6ubP...</td>\n",
       "      <td>196173</td>\n",
       "      <td>4</td>\n",
       "    </tr>\n",
       "    <tr>\n",
       "      <th>5</th>\n",
       "      <td>0.719</td>\n",
       "      <td>0.895</td>\n",
       "      <td>1</td>\n",
       "      <td>-3.263</td>\n",
       "      <td>1</td>\n",
       "      <td>0.0371</td>\n",
       "      <td>0.011000</td>\n",
       "      <td>0.000036</td>\n",
       "      <td>0.0731</td>\n",
       "      <td>0.7450</td>\n",
       "      <td>100.962</td>\n",
       "      <td>audio_features</td>\n",
       "      <td>4UyAtnwhaKv7EG1BdkBYRI</td>\n",
       "      <td>spotify:track:4UyAtnwhaKv7EG1BdkBYRI</td>\n",
       "      <td>https://api.spotify.com/v1/tracks/4UyAtnwhaKv7...</td>\n",
       "      <td>https://api.spotify.com/v1/audio-analysis/4UyA...</td>\n",
       "      <td>187973</td>\n",
       "      <td>4</td>\n",
       "    </tr>\n",
       "    <tr>\n",
       "      <th>6</th>\n",
       "      <td>0.532</td>\n",
       "      <td>0.926</td>\n",
       "      <td>11</td>\n",
       "      <td>-2.537</td>\n",
       "      <td>0</td>\n",
       "      <td>0.1340</td>\n",
       "      <td>0.002390</td>\n",
       "      <td>0.215000</td>\n",
       "      <td>0.0720</td>\n",
       "      <td>0.5530</td>\n",
       "      <td>146.988</td>\n",
       "      <td>audio_features</td>\n",
       "      <td>3iLk4Ii9EzNo4CIKpmAkB1</td>\n",
       "      <td>spotify:track:3iLk4Ii9EzNo4CIKpmAkB1</td>\n",
       "      <td>https://api.spotify.com/v1/tracks/3iLk4Ii9EzNo...</td>\n",
       "      <td>https://api.spotify.com/v1/audio-analysis/3iLk...</td>\n",
       "      <td>154880</td>\n",
       "      <td>4</td>\n",
       "    </tr>\n",
       "    <tr>\n",
       "      <th>7</th>\n",
       "      <td>0.245</td>\n",
       "      <td>0.331</td>\n",
       "      <td>0</td>\n",
       "      <td>-8.884</td>\n",
       "      <td>1</td>\n",
       "      <td>0.0341</td>\n",
       "      <td>0.639000</td>\n",
       "      <td>0.000000</td>\n",
       "      <td>0.1050</td>\n",
       "      <td>0.1010</td>\n",
       "      <td>72.741</td>\n",
       "      <td>audio_features</td>\n",
       "      <td>7eIODQbTgKeNawQtowZJEM</td>\n",
       "      <td>spotify:track:7eIODQbTgKeNawQtowZJEM</td>\n",
       "      <td>https://api.spotify.com/v1/tracks/7eIODQbTgKeN...</td>\n",
       "      <td>https://api.spotify.com/v1/audio-analysis/7eIO...</td>\n",
       "      <td>240547</td>\n",
       "      <td>4</td>\n",
       "    </tr>\n",
       "    <tr>\n",
       "      <th>8</th>\n",
       "      <td>0.533</td>\n",
       "      <td>0.919</td>\n",
       "      <td>11</td>\n",
       "      <td>-3.610</td>\n",
       "      <td>0</td>\n",
       "      <td>0.0714</td>\n",
       "      <td>0.019200</td>\n",
       "      <td>0.000000</td>\n",
       "      <td>0.3500</td>\n",
       "      <td>0.5200</td>\n",
       "      <td>98.934</td>\n",
       "      <td>audio_features</td>\n",
       "      <td>3AXurFcVRfTGxXBVpqLY2d</td>\n",
       "      <td>spotify:track:3AXurFcVRfTGxXBVpqLY2d</td>\n",
       "      <td>https://api.spotify.com/v1/tracks/3AXurFcVRfTG...</td>\n",
       "      <td>https://api.spotify.com/v1/audio-analysis/3AXu...</td>\n",
       "      <td>195667</td>\n",
       "      <td>4</td>\n",
       "    </tr>\n",
       "    <tr>\n",
       "      <th>9</th>\n",
       "      <td>0.610</td>\n",
       "      <td>0.763</td>\n",
       "      <td>2</td>\n",
       "      <td>-2.703</td>\n",
       "      <td>1</td>\n",
       "      <td>0.0271</td>\n",
       "      <td>0.001710</td>\n",
       "      <td>0.000415</td>\n",
       "      <td>0.2800</td>\n",
       "      <td>0.7280</td>\n",
       "      <td>106.028</td>\n",
       "      <td>audio_features</td>\n",
       "      <td>7A8iUf6fZZcrnnurw7VKSK</td>\n",
       "      <td>spotify:track:7A8iUf6fZZcrnnurw7VKSK</td>\n",
       "      <td>https://api.spotify.com/v1/tracks/7A8iUf6fZZcr...</td>\n",
       "      <td>https://api.spotify.com/v1/audio-analysis/7A8i...</td>\n",
       "      <td>190467</td>\n",
       "      <td>4</td>\n",
       "    </tr>\n",
       "    <tr>\n",
       "      <th>10</th>\n",
       "      <td>0.569</td>\n",
       "      <td>0.472</td>\n",
       "      <td>0</td>\n",
       "      <td>-5.175</td>\n",
       "      <td>1</td>\n",
       "      <td>0.0285</td>\n",
       "      <td>0.003660</td>\n",
       "      <td>0.002750</td>\n",
       "      <td>0.0891</td>\n",
       "      <td>0.2190</td>\n",
       "      <td>134.979</td>\n",
       "      <td>audio_features</td>\n",
       "      <td>1U5dJjrL6yq7IH6keAyWOe</td>\n",
       "      <td>spotify:track:1U5dJjrL6yq7IH6keAyWOe</td>\n",
       "      <td>https://api.spotify.com/v1/tracks/1U5dJjrL6yq7...</td>\n",
       "      <td>https://api.spotify.com/v1/audio-analysis/1U5d...</td>\n",
       "      <td>230040</td>\n",
       "      <td>4</td>\n",
       "    </tr>\n",
       "    <tr>\n",
       "      <th>11</th>\n",
       "      <td>0.453</td>\n",
       "      <td>0.953</td>\n",
       "      <td>6</td>\n",
       "      <td>-3.058</td>\n",
       "      <td>0</td>\n",
       "      <td>0.1520</td>\n",
       "      <td>0.000017</td>\n",
       "      <td>0.082500</td>\n",
       "      <td>0.1060</td>\n",
       "      <td>0.4460</td>\n",
       "      <td>142.960</td>\n",
       "      <td>audio_features</td>\n",
       "      <td>3POYMPJ0HJGtBc7aO2H7QV</td>\n",
       "      <td>spotify:track:3POYMPJ0HJGtBc7aO2H7QV</td>\n",
       "      <td>https://api.spotify.com/v1/tracks/3POYMPJ0HJGt...</td>\n",
       "      <td>https://api.spotify.com/v1/audio-analysis/3POY...</td>\n",
       "      <td>205693</td>\n",
       "      <td>4</td>\n",
       "    </tr>\n",
       "    <tr>\n",
       "      <th>12</th>\n",
       "      <td>0.357</td>\n",
       "      <td>0.326</td>\n",
       "      <td>4</td>\n",
       "      <td>-7.198</td>\n",
       "      <td>0</td>\n",
       "      <td>0.0308</td>\n",
       "      <td>0.311000</td>\n",
       "      <td>0.005700</td>\n",
       "      <td>0.1070</td>\n",
       "      <td>0.0497</td>\n",
       "      <td>102.098</td>\n",
       "      <td>audio_features</td>\n",
       "      <td>50nZ2pvMssa7zcSI8ZgARe</td>\n",
       "      <td>spotify:track:50nZ2pvMssa7zcSI8ZgARe</td>\n",
       "      <td>https://api.spotify.com/v1/tracks/50nZ2pvMssa7...</td>\n",
       "      <td>https://api.spotify.com/v1/audio-analysis/50nZ...</td>\n",
       "      <td>256227</td>\n",
       "      <td>4</td>\n",
       "    </tr>\n",
       "  </tbody>\n",
       "</table>\n",
       "</div>"
      ],
      "text/plain": [
       "    danceability  energy  key  loudness  mode  speechiness  acousticness  \\\n",
       "0          0.520   0.931    4    -3.051     1       0.0969      0.001800   \n",
       "1          0.668   0.913    9    -3.097     1       0.0348      0.011900   \n",
       "2          0.705   0.728    4    -3.184     0       0.0350      0.001220   \n",
       "3          0.601   0.946    4    -2.298     0       0.0656      0.066100   \n",
       "4          0.539   0.788    9    -3.227     0       0.0396      0.008900   \n",
       "5          0.719   0.895    1    -3.263     1       0.0371      0.011000   \n",
       "6          0.532   0.926   11    -2.537     0       0.1340      0.002390   \n",
       "7          0.245   0.331    0    -8.884     1       0.0341      0.639000   \n",
       "8          0.533   0.919   11    -3.610     0       0.0714      0.019200   \n",
       "9          0.610   0.763    2    -2.703     1       0.0271      0.001710   \n",
       "10         0.569   0.472    0    -5.175     1       0.0285      0.003660   \n",
       "11         0.453   0.953    6    -3.058     0       0.1520      0.000017   \n",
       "12         0.357   0.326    4    -7.198     0       0.0308      0.311000   \n",
       "\n",
       "    instrumentalness  liveness  valence    tempo            type  \\\n",
       "0           0.000306    0.1150   0.5570  166.018  audio_features   \n",
       "1           0.000007    0.1110   0.9330  132.039  audio_features   \n",
       "2           0.069300    0.0753   0.9660  109.991  audio_features   \n",
       "3           0.000011    0.3880   0.5800  141.929  audio_features   \n",
       "4           0.000000    0.2900   0.3570  159.986  audio_features   \n",
       "5           0.000036    0.0731   0.7450  100.962  audio_features   \n",
       "6           0.215000    0.0720   0.5530  146.988  audio_features   \n",
       "7           0.000000    0.1050   0.1010   72.741  audio_features   \n",
       "8           0.000000    0.3500   0.5200   98.934  audio_features   \n",
       "9           0.000415    0.2800   0.7280  106.028  audio_features   \n",
       "10          0.002750    0.0891   0.2190  134.979  audio_features   \n",
       "11          0.082500    0.1060   0.4460  142.960  audio_features   \n",
       "12          0.005700    0.1070   0.0497  102.098  audio_features   \n",
       "\n",
       "                        id                                   uri  \\\n",
       "0   0RbcDELsGTciLeMGsSdJAc  spotify:track:0RbcDELsGTciLeMGsSdJAc   \n",
       "1   1KuVdyg8d6NlRhbpHxg5UF  spotify:track:1KuVdyg8d6NlRhbpHxg5UF   \n",
       "2   4Y6GIje3GErVRIq1Ff5BJq  spotify:track:4Y6GIje3GErVRIq1Ff5BJq   \n",
       "3   0wSmZykDgah7GfaUNZUZCb  spotify:track:0wSmZykDgah7GfaUNZUZCb   \n",
       "4   6ubPFMzlIg73d1jzzWcC8B  spotify:track:6ubPFMzlIg73d1jzzWcC8B   \n",
       "5   4UyAtnwhaKv7EG1BdkBYRI  spotify:track:4UyAtnwhaKv7EG1BdkBYRI   \n",
       "6   3iLk4Ii9EzNo4CIKpmAkB1  spotify:track:3iLk4Ii9EzNo4CIKpmAkB1   \n",
       "7   7eIODQbTgKeNawQtowZJEM  spotify:track:7eIODQbTgKeNawQtowZJEM   \n",
       "8   3AXurFcVRfTGxXBVpqLY2d  spotify:track:3AXurFcVRfTGxXBVpqLY2d   \n",
       "9   7A8iUf6fZZcrnnurw7VKSK  spotify:track:7A8iUf6fZZcrnnurw7VKSK   \n",
       "10  1U5dJjrL6yq7IH6keAyWOe  spotify:track:1U5dJjrL6yq7IH6keAyWOe   \n",
       "11  3POYMPJ0HJGtBc7aO2H7QV  spotify:track:3POYMPJ0HJGtBc7aO2H7QV   \n",
       "12  50nZ2pvMssa7zcSI8ZgARe  spotify:track:50nZ2pvMssa7zcSI8ZgARe   \n",
       "\n",
       "                                           track_href  \\\n",
       "0   https://api.spotify.com/v1/tracks/0RbcDELsGTci...   \n",
       "1   https://api.spotify.com/v1/tracks/1KuVdyg8d6Nl...   \n",
       "2   https://api.spotify.com/v1/tracks/4Y6GIje3GErV...   \n",
       "3   https://api.spotify.com/v1/tracks/0wSmZykDgah7...   \n",
       "4   https://api.spotify.com/v1/tracks/6ubPFMzlIg73...   \n",
       "5   https://api.spotify.com/v1/tracks/4UyAtnwhaKv7...   \n",
       "6   https://api.spotify.com/v1/tracks/3iLk4Ii9EzNo...   \n",
       "7   https://api.spotify.com/v1/tracks/7eIODQbTgKeN...   \n",
       "8   https://api.spotify.com/v1/tracks/3AXurFcVRfTG...   \n",
       "9   https://api.spotify.com/v1/tracks/7A8iUf6fZZcr...   \n",
       "10  https://api.spotify.com/v1/tracks/1U5dJjrL6yq7...   \n",
       "11  https://api.spotify.com/v1/tracks/3POYMPJ0HJGt...   \n",
       "12  https://api.spotify.com/v1/tracks/50nZ2pvMssa7...   \n",
       "\n",
       "                                         analysis_url  duration_ms  \\\n",
       "0   https://api.spotify.com/v1/audio-analysis/0Rbc...       163200   \n",
       "1   https://api.spotify.com/v1/audio-analysis/1KuV...       219053   \n",
       "2   https://api.spotify.com/v1/audio-analysis/4Y6G...       226533   \n",
       "3   https://api.spotify.com/v1/audio-analysis/0wSm...       208133   \n",
       "4   https://api.spotify.com/v1/audio-analysis/6ubP...       196173   \n",
       "5   https://api.spotify.com/v1/audio-analysis/4UyA...       187973   \n",
       "6   https://api.spotify.com/v1/audio-analysis/3iLk...       154880   \n",
       "7   https://api.spotify.com/v1/audio-analysis/7eIO...       240547   \n",
       "8   https://api.spotify.com/v1/audio-analysis/3AXu...       195667   \n",
       "9   https://api.spotify.com/v1/audio-analysis/7A8i...       190467   \n",
       "10  https://api.spotify.com/v1/audio-analysis/1U5d...       230040   \n",
       "11  https://api.spotify.com/v1/audio-analysis/3POY...       205693   \n",
       "12  https://api.spotify.com/v1/audio-analysis/50nZ...       256227   \n",
       "\n",
       "    time_signature  \n",
       "0                4  \n",
       "1                4  \n",
       "2                4  \n",
       "3                4  \n",
       "4                4  \n",
       "5                4  \n",
       "6                4  \n",
       "7                4  \n",
       "8                4  \n",
       "9                4  \n",
       "10               4  \n",
       "11               4  \n",
       "12               4  "
      ]
     },
     "execution_count": 129,
     "metadata": {},
     "output_type": "execute_result"
    }
   ],
   "source": [
    "cte_df"
   ]
  },
  {
   "cell_type": "code",
   "execution_count": 130,
   "id": "304dce24",
   "metadata": {},
   "outputs": [],
   "source": [
    "queen_df['album'] = ['queen'] * len(queen_df.index)"
   ]
  },
  {
   "cell_type": "code",
   "execution_count": 131,
   "id": "7132a16a",
   "metadata": {},
   "outputs": [],
   "source": [
    "cte_df['album'] = ['cte'] * len(cte_df.index)"
   ]
  },
  {
   "cell_type": "code",
   "execution_count": 132,
   "id": "e58734af",
   "metadata": {},
   "outputs": [],
   "source": [
    "audio_features = pd.concat([queen_df, cte_df])"
   ]
  },
  {
   "cell_type": "code",
   "execution_count": 133,
   "id": "676feb8a",
   "metadata": {},
   "outputs": [],
   "source": [
    "audio_features.to_csv('data_analysis_audio.csv')"
   ]
  }
 ],
 "metadata": {
  "kernelspec": {
   "display_name": "Python 3 (ipykernel)",
   "language": "python",
   "name": "python3"
  },
  "language_info": {
   "codemirror_mode": {
    "name": "ipython",
    "version": 3
   },
   "file_extension": ".py",
   "mimetype": "text/x-python",
   "name": "python",
   "nbconvert_exporter": "python",
   "pygments_lexer": "ipython3",
   "version": "3.11.4"
  }
 },
 "nbformat": 4,
 "nbformat_minor": 5
}

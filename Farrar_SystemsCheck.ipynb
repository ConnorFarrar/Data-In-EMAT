{
 "cells": [
  {
   "cell_type": "markdown",
   "id": "04eeb327",
   "metadata": {},
   "source": [
    "# Data In EMAT\n",
    "\n",
    "![Image of a PC](https://i.rtings.com/assets/pages/ujDprOVq/best-monitors-for-programming-20230815-medium.jpg)\n",
    "\n",
    "## Systems Check\n",
    "\n",
    "![Image representing a systems check](https://blog.supportgroup.com/hubfs/Simple_System_Checks/Year-End-System-Review_1200x627.jpg)\n",
    "\n",
    "### What I Hope to Get Out of This Class\n",
    "\n",
    "Coming into this class I already have some coding experience with Java, but I'm looking forward to learning how to utilize Python as well. Here's a list of a few of the skills I hope to learn in this class.\n",
    "\n",
    "1. How to Code Using Python\n",
    "1. Better Data Management Skills\n",
    "1. How to Maintain a GitHub Repository"
   ]
  },
  {
   "cell_type": "code",
   "execution_count": 5,
   "id": "1838d4ca",
   "metadata": {},
   "outputs": [
    {
     "name": "stdout",
     "output_type": "stream",
     "text": [
      "Systems\n",
      "/\n",
      "Check\n"
     ]
    }
   ],
   "source": [
    "words= [\"Systems\", \"/\", \"Check\" ]\n",
    "for word in words:\n",
    "    print (word)"
   ]
  },
  {
   "cell_type": "code",
   "execution_count": 8,
   "id": "454bbcf4",
   "metadata": {},
   "outputs": [
    {
     "name": "stdout",
     "output_type": "stream",
     "text": [
      "This is a systems check!\n"
     ]
    }
   ],
   "source": [
    "def print_scheck():\n",
    "    print(\"This is a systems check!\")\n",
    "\n",
    "print_scheck()"
   ]
  },
  {
   "cell_type": "code",
   "execution_count": 10,
   "id": "826785ba",
   "metadata": {},
   "outputs": [
    {
     "data": {
      "text/plain": [
       "'This is a systems check!'"
      ]
     },
     "execution_count": 10,
     "metadata": {},
     "output_type": "execute_result"
    }
   ],
   "source": [
    "def return_scheck():\n",
    "    return \"This is a systems check!\"\n",
    "    \n",
    "return_scheck()"
   ]
  },
  {
   "cell_type": "code",
   "execution_count": null,
   "id": "97315c18",
   "metadata": {},
   "outputs": [],
   "source": []
  }
 ],
 "metadata": {
  "kernelspec": {
   "display_name": "Python 3 (ipykernel)",
   "language": "python",
   "name": "python3"
  },
  "language_info": {
   "codemirror_mode": {
    "name": "ipython",
    "version": 3
   },
   "file_extension": ".py",
   "mimetype": "text/x-python",
   "name": "python",
   "nbconvert_exporter": "python",
   "pygments_lexer": "ipython3",
   "version": "3.11.4"
  }
 },
 "nbformat": 4,
 "nbformat_minor": 5
}

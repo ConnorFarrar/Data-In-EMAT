{
 "cells": [
  {
   "cell_type": "code",
   "execution_count": 26,
   "id": "0e8b4333",
   "metadata": {},
   "outputs": [],
   "source": [
    "import pandas as pd\n",
    "import numpy as np\n",
    "from scipy import stats\n",
    "from matplotlib import pyplot as plt"
   ]
  },
  {
   "cell_type": "markdown",
   "id": "d5f66042",
   "metadata": {},
   "source": [
    "### Data Collection Pt. 1\n",
    "#### To start off, I looked at what game development companies suffered layoffs in 2023. I then chose five well known developers from that list to look into further. The five companies I decided to research were Bungie, EA, 343 Industries, Amazon Games, Riot Games, Epic Games, CD Projekt Red, and Ubisoft. These are all some of the largest and most successful game developers yet they all suffered layoffs in 2023.\n",
    "\n",
    "## Sources\n",
    "#### EA Layoffs: https://variety.com/2023/digital/news/electronic-arts-layoffs-employees-1235568329/?sub_action=logged_in\n",
    "#### Bungie Layoffs: https://www.bloomberg.com/news/articles/2023-10-31/sony-s-bungie-game-unit-cut-jobs-as-destiny-2-popularity-waned#xj4y7vzkg\n",
    "#### Amazon Layoffs: https://www.cnbc.com/2023/04/04/amazon-lays-off-some-employees-in-its-video-games-unit-read-the-memo.html \n",
    "#### 343 Studios Layoffs: https://www.gamesindustry.biz/343-layoffs-affected-95-including-top-directors \n",
    "#### Riot Games Layoffs: https://www.gamesindustry.biz/riot-games-lays-off-46-staff-as-part-of-strategic-shifts#:~:text=Valorant%20and%20League%20of%20Legends,in%20the%20past%20few%20weeks \n",
    "#### Epic Games Layoffs: https://www.epicgames.com/site/en-US/news/layoffs-at-epic\n",
    "#### Ubisoft Layoffs: https://www.ign.com/articles/ubisoft-lays-off-124-employees-to-enhance-collective-efficiency\n",
    "#### CD Projekt Red Layoffs: https://www.ign.com/articles/mass-layoffs-at-cyberpunk-2077-developer-cd-projekt-prompt-new-union-formation"
   ]
  },
  {
   "cell_type": "code",
   "execution_count": 69,
   "id": "33926b48",
   "metadata": {},
   "outputs": [
    {
     "data": {
      "text/html": [
       "<div>\n",
       "<style scoped>\n",
       "    .dataframe tbody tr th:only-of-type {\n",
       "        vertical-align: middle;\n",
       "    }\n",
       "\n",
       "    .dataframe tbody tr th {\n",
       "        vertical-align: top;\n",
       "    }\n",
       "\n",
       "    .dataframe thead th {\n",
       "        text-align: right;\n",
       "    }\n",
       "</style>\n",
       "<table border=\"1\" class=\"dataframe\">\n",
       "  <thead>\n",
       "    <tr style=\"text-align: right;\">\n",
       "      <th></th>\n",
       "      <th>Studio</th>\n",
       "      <th>Layoffs</th>\n",
       "    </tr>\n",
       "  </thead>\n",
       "  <tbody>\n",
       "    <tr>\n",
       "      <th>0</th>\n",
       "      <td>Bungie</td>\n",
       "      <td>100</td>\n",
       "    </tr>\n",
       "    <tr>\n",
       "      <th>1</th>\n",
       "      <td>EA</td>\n",
       "      <td>800</td>\n",
       "    </tr>\n",
       "    <tr>\n",
       "      <th>2</th>\n",
       "      <td>343 Industries</td>\n",
       "      <td>95</td>\n",
       "    </tr>\n",
       "    <tr>\n",
       "      <th>3</th>\n",
       "      <td>Amazon Games</td>\n",
       "      <td>100</td>\n",
       "    </tr>\n",
       "    <tr>\n",
       "      <th>4</th>\n",
       "      <td>Riot Games</td>\n",
       "      <td>46</td>\n",
       "    </tr>\n",
       "    <tr>\n",
       "      <th>5</th>\n",
       "      <td>Epic Games</td>\n",
       "      <td>830</td>\n",
       "    </tr>\n",
       "    <tr>\n",
       "      <th>6</th>\n",
       "      <td>CD Projekt Red</td>\n",
       "      <td>100</td>\n",
       "    </tr>\n",
       "    <tr>\n",
       "      <th>7</th>\n",
       "      <td>Ubisoft</td>\n",
       "      <td>124</td>\n",
       "    </tr>\n",
       "  </tbody>\n",
       "</table>\n",
       "</div>"
      ],
      "text/plain": [
       "           Studio  Layoffs\n",
       "0          Bungie      100\n",
       "1              EA      800\n",
       "2  343 Industries       95\n",
       "3    Amazon Games      100\n",
       "4      Riot Games       46\n",
       "5      Epic Games      830\n",
       "6  CD Projekt Red      100\n",
       "7         Ubisoft      124"
      ]
     },
     "execution_count": 69,
     "metadata": {},
     "output_type": "execute_result"
    }
   ],
   "source": [
    "layoffs_df = pd.DataFrame({'Studio': ['Bungie', 'EA', '343 Industries', 'Amazon Games', 'Riot Games', 'Epic Games', 'CD Projekt Red', 'Ubisoft'],\n",
    "                   'Layoffs': [100, 800, 95, 100, 46, 830, 100, 124]})\n",
    "layoffs_df"
   ]
  },
  {
   "cell_type": "markdown",
   "id": "8f52d628",
   "metadata": {},
   "source": [
    "### Data Collection Pt. 2\n",
    "#### Next I needed data on the player count for these companies flagship titles. For every developer except for Riot Games, I was able to use steam charts to measure the player counts since the release of the measured games. For Bungie, I looked at the player count for Destiny 2, for EA I looked at the player count for FIFA, for 343 Industries I looked at the player count for Halo Infinite, for Amazon games I looked at the player count for New World, for Riot Games I looked at the player count for League of Legends, for CD Projekt Red I looked at Cyberpunk 2077, and for Ubisoft I looked at Rainbow Six Siege. \n",
    "#### These are all the flagship titles for these companies that have garnered the most players over the years. Amazon Games' New World released in 2021 along with 343 Industry's Halo Infinite, so I looked at the peak player count for each game in 2021 and 2023. I then found the difference between those two player counts. \n",
    "\n",
    "## Player Count Calculations\n",
    "#### Destiny 2 / 2021: 187,504 / 2023: 316,651 / Difference: +129,147\n",
    "#### FIFA / FIFA 2021: 43,733 / FIFA 2023: 110,757 / Difference: +67,024\n",
    "#### Halo Infinite / 2021: 147,782 / 2023: 18,003 / Difference: -129,779\n",
    "#### New World / 2021: 913,027 / 2023: 77,642 / Difference: -835,385\n",
    "#### League of Legends / 2021: 13,948,310 / 2023: 10,233,639 / Difference: -3,714,671\n",
    "#### Fortnite / 2021: 35,011,479 / 2023: 25,260,015 / Difference: -9,751,464\n",
    "#### Cyberpunk 2077 / 2021: 47,115 / 2023: 273,990 / Difference: 226,875\n",
    "#### Rainbow Six Siege / 2021: 199,830 / 2023: 95,149 / Difference: -104,681\n",
    "\n",
    "\n",
    "## Sources\n",
    "#### https://steamcharts.com/app/1085660 - Destiny 2 Players (Bungie)\n",
    "#### https://steamcharts.com/app/1313860 - FIFA 21 Count (EA)\n",
    "#### https://steamcharts.com/app/1811260 - FIFA 23 Count (EA)\n",
    "#### https://steamcharts.com/app/1240440 - Halo Infinite Count (343)\n",
    "#### https://steamcharts.com/app/1063730 - New World Count (Amazon)\n",
    "#### https://activeplayer.io/league-of-legends/ - League of Legends (Riot)\n",
    "#### https://activeplayer.io/fortnite/#google_vignette - Fortnite (Epic Games)\n",
    "#### https://steamcharts.com/app/1091500 - Cyberpunk 2077 (CD Projekt Red)\n",
    "#### https://steamcharts.com/app/359550#All - Rainbow Six Siege (Ubisoft)"
   ]
  },
  {
   "cell_type": "code",
   "execution_count": 72,
   "id": "2abd2b84",
   "metadata": {
    "scrolled": true
   },
   "outputs": [
    {
     "data": {
      "text/html": [
       "<div>\n",
       "<style scoped>\n",
       "    .dataframe tbody tr th:only-of-type {\n",
       "        vertical-align: middle;\n",
       "    }\n",
       "\n",
       "    .dataframe tbody tr th {\n",
       "        vertical-align: top;\n",
       "    }\n",
       "\n",
       "    .dataframe thead th {\n",
       "        text-align: right;\n",
       "    }\n",
       "</style>\n",
       "<table border=\"1\" class=\"dataframe\">\n",
       "  <thead>\n",
       "    <tr style=\"text-align: right;\">\n",
       "      <th></th>\n",
       "      <th>Studio</th>\n",
       "      <th>Game</th>\n",
       "      <th>Player Count Difference</th>\n",
       "    </tr>\n",
       "  </thead>\n",
       "  <tbody>\n",
       "    <tr>\n",
       "      <th>0</th>\n",
       "      <td>Bungie</td>\n",
       "      <td>Destiny 2</td>\n",
       "      <td>129147</td>\n",
       "    </tr>\n",
       "    <tr>\n",
       "      <th>1</th>\n",
       "      <td>EA</td>\n",
       "      <td>FIFA 21-23</td>\n",
       "      <td>67024</td>\n",
       "    </tr>\n",
       "    <tr>\n",
       "      <th>2</th>\n",
       "      <td>343 Industries</td>\n",
       "      <td>Halo Infinite</td>\n",
       "      <td>-129779</td>\n",
       "    </tr>\n",
       "    <tr>\n",
       "      <th>3</th>\n",
       "      <td>Amazon Games</td>\n",
       "      <td>New World</td>\n",
       "      <td>-835385</td>\n",
       "    </tr>\n",
       "    <tr>\n",
       "      <th>4</th>\n",
       "      <td>Riot Games</td>\n",
       "      <td>League of Legends</td>\n",
       "      <td>-3714671</td>\n",
       "    </tr>\n",
       "    <tr>\n",
       "      <th>5</th>\n",
       "      <td>Epic Games</td>\n",
       "      <td>Fortnite</td>\n",
       "      <td>-9751464</td>\n",
       "    </tr>\n",
       "    <tr>\n",
       "      <th>6</th>\n",
       "      <td>CD Projekt Red</td>\n",
       "      <td>Cyberpunk 2077</td>\n",
       "      <td>226875</td>\n",
       "    </tr>\n",
       "    <tr>\n",
       "      <th>7</th>\n",
       "      <td>Ubisoft</td>\n",
       "      <td>Rainbow Six Siege</td>\n",
       "      <td>-104681</td>\n",
       "    </tr>\n",
       "  </tbody>\n",
       "</table>\n",
       "</div>"
      ],
      "text/plain": [
       "           Studio               Game  Player Count Difference\n",
       "0          Bungie          Destiny 2                   129147\n",
       "1              EA         FIFA 21-23                    67024\n",
       "2  343 Industries      Halo Infinite                  -129779\n",
       "3    Amazon Games          New World                  -835385\n",
       "4      Riot Games  League of Legends                 -3714671\n",
       "5      Epic Games           Fortnite                 -9751464\n",
       "6  CD Projekt Red     Cyberpunk 2077                   226875\n",
       "7         Ubisoft  Rainbow Six Siege                  -104681"
      ]
     },
     "execution_count": 72,
     "metadata": {},
     "output_type": "execute_result"
    }
   ],
   "source": [
    "playercount_df = pd.DataFrame({'Studio': ['Bungie', 'EA', '343 Industries', 'Amazon Games', 'Riot Games', 'Epic Games', 'CD Projekt Red', 'Ubisoft'],\n",
    "                               'Game': ['Destiny 2', 'FIFA 21-23', 'Halo Infinite', 'New World', 'League of Legends', 'Fortnite', 'Cyberpunk 2077', 'Rainbow Six Siege'],\n",
    "                               'Player Count Difference': [129147, 67024, -129779, -835385, -3714671, -9751464, 226875, -104681]})\n",
    "playercount_df"
   ]
  },
  {
   "cell_type": "markdown",
   "id": "ae8ca8c6",
   "metadata": {},
   "source": [
    "### Data Structure\n",
    "#### I created a merged dataframe that I can call on that contains all the data I collected. I converted it into a .csv because thats what I know how to work with. This will let me easily access the data for whatever charts I end up using in my analysis."
   ]
  },
  {
   "cell_type": "code",
   "execution_count": 73,
   "id": "4ed79d84",
   "metadata": {},
   "outputs": [],
   "source": [
    "final_project_data = pd.merge(layoffs_df, playercount_df, on='Studio')"
   ]
  },
  {
   "cell_type": "code",
   "execution_count": 74,
   "id": "a8eeb274",
   "metadata": {},
   "outputs": [],
   "source": [
    "final_project_data.to_csv('data_in_hand.csv')"
   ]
  },
  {
   "cell_type": "code",
   "execution_count": 75,
   "id": "66eff8b2",
   "metadata": {},
   "outputs": [
    {
     "data": {
      "text/html": [
       "<div>\n",
       "<style scoped>\n",
       "    .dataframe tbody tr th:only-of-type {\n",
       "        vertical-align: middle;\n",
       "    }\n",
       "\n",
       "    .dataframe tbody tr th {\n",
       "        vertical-align: top;\n",
       "    }\n",
       "\n",
       "    .dataframe thead th {\n",
       "        text-align: right;\n",
       "    }\n",
       "</style>\n",
       "<table border=\"1\" class=\"dataframe\">\n",
       "  <thead>\n",
       "    <tr style=\"text-align: right;\">\n",
       "      <th></th>\n",
       "      <th>Unnamed: 0</th>\n",
       "      <th>Studio</th>\n",
       "      <th>Layoffs</th>\n",
       "      <th>Game</th>\n",
       "      <th>Player Count Difference</th>\n",
       "    </tr>\n",
       "  </thead>\n",
       "  <tbody>\n",
       "    <tr>\n",
       "      <th>0</th>\n",
       "      <td>0</td>\n",
       "      <td>Bungie</td>\n",
       "      <td>100</td>\n",
       "      <td>Destiny 2</td>\n",
       "      <td>129147</td>\n",
       "    </tr>\n",
       "    <tr>\n",
       "      <th>1</th>\n",
       "      <td>1</td>\n",
       "      <td>EA</td>\n",
       "      <td>800</td>\n",
       "      <td>FIFA 21-23</td>\n",
       "      <td>67024</td>\n",
       "    </tr>\n",
       "    <tr>\n",
       "      <th>2</th>\n",
       "      <td>2</td>\n",
       "      <td>343 Industries</td>\n",
       "      <td>95</td>\n",
       "      <td>Halo Infinite</td>\n",
       "      <td>-129779</td>\n",
       "    </tr>\n",
       "    <tr>\n",
       "      <th>3</th>\n",
       "      <td>3</td>\n",
       "      <td>Amazon Games</td>\n",
       "      <td>100</td>\n",
       "      <td>New World</td>\n",
       "      <td>-835385</td>\n",
       "    </tr>\n",
       "    <tr>\n",
       "      <th>4</th>\n",
       "      <td>4</td>\n",
       "      <td>Riot Games</td>\n",
       "      <td>46</td>\n",
       "      <td>League of Legends</td>\n",
       "      <td>-3714671</td>\n",
       "    </tr>\n",
       "    <tr>\n",
       "      <th>5</th>\n",
       "      <td>5</td>\n",
       "      <td>Epic Games</td>\n",
       "      <td>830</td>\n",
       "      <td>Fortnite</td>\n",
       "      <td>-9751464</td>\n",
       "    </tr>\n",
       "    <tr>\n",
       "      <th>6</th>\n",
       "      <td>6</td>\n",
       "      <td>CD Projekt Red</td>\n",
       "      <td>100</td>\n",
       "      <td>Cyberpunk 2077</td>\n",
       "      <td>226875</td>\n",
       "    </tr>\n",
       "    <tr>\n",
       "      <th>7</th>\n",
       "      <td>7</td>\n",
       "      <td>Ubisoft</td>\n",
       "      <td>124</td>\n",
       "      <td>Rainbow Six Siege</td>\n",
       "      <td>-104681</td>\n",
       "    </tr>\n",
       "  </tbody>\n",
       "</table>\n",
       "</div>"
      ],
      "text/plain": [
       "   Unnamed: 0          Studio  Layoffs               Game  \\\n",
       "0           0          Bungie      100          Destiny 2   \n",
       "1           1              EA      800         FIFA 21-23   \n",
       "2           2  343 Industries       95      Halo Infinite   \n",
       "3           3    Amazon Games      100          New World   \n",
       "4           4      Riot Games       46  League of Legends   \n",
       "5           5      Epic Games      830           Fortnite   \n",
       "6           6  CD Projekt Red      100     Cyberpunk 2077   \n",
       "7           7         Ubisoft      124  Rainbow Six Siege   \n",
       "\n",
       "   Player Count Difference  \n",
       "0                   129147  \n",
       "1                    67024  \n",
       "2                  -129779  \n",
       "3                  -835385  \n",
       "4                 -3714671  \n",
       "5                 -9751464  \n",
       "6                   226875  \n",
       "7                  -104681  "
      ]
     },
     "execution_count": 75,
     "metadata": {},
     "output_type": "execute_result"
    }
   ],
   "source": [
    "af = pd.read_csv('data_in_hand.csv')\n",
    "af"
   ]
  },
  {
   "cell_type": "code",
   "execution_count": 76,
   "id": "9dc99552",
   "metadata": {},
   "outputs": [
    {
     "data": {
      "text/plain": [
       "0    100\n",
       "1    800\n",
       "2     95\n",
       "3    100\n",
       "4     46\n",
       "5    830\n",
       "6    100\n",
       "7    124\n",
       "Name: Layoffs, dtype: int64"
      ]
     },
     "execution_count": 76,
     "metadata": {},
     "output_type": "execute_result"
    }
   ],
   "source": [
    "studio_layoffs = af['Layoffs']\n",
    "studio_layoffs"
   ]
  },
  {
   "cell_type": "code",
   "execution_count": 77,
   "id": "029c4eb3",
   "metadata": {},
   "outputs": [
    {
     "data": {
      "text/plain": [
       "0     129147\n",
       "1      67024\n",
       "2    -129779\n",
       "3    -835385\n",
       "4   -3714671\n",
       "5   -9751464\n",
       "6     226875\n",
       "7    -104681\n",
       "Name: Player Count Difference, dtype: int64"
      ]
     },
     "execution_count": 77,
     "metadata": {},
     "output_type": "execute_result"
    }
   ],
   "source": [
    "player_count = af['Player Count Difference']\n",
    "player_count"
   ]
  },
  {
   "cell_type": "markdown",
   "id": "ce6d3a0b",
   "metadata": {},
   "source": [
    "# Analysis Plan"
   ]
  },
  {
   "cell_type": "markdown",
   "id": "38b355df",
   "metadata": {},
   "source": [
    "## Scatter Plot\n",
    "### I want to use a scatter plot so that I can easily visualize the relationship between the player count difference and the numebr of layoffs. This will let me see more easily differntiate between studios that have had layoffs despite gaining players and studios that have had layoffs in tandem with losing players. "
   ]
  },
  {
   "cell_type": "code",
   "execution_count": 85,
   "id": "f31777da",
   "metadata": {
    "scrolled": false
   },
   "outputs": [
    {
     "data": {
      "image/png": "[encoded data removed]",
      "text/plain": [
       "<Figure size 640x480 with 1 Axes>"
      ]
     },
     "metadata": {},
     "output_type": "display_data"
    }
   ],
   "source": [
    "fig1, ax1 = plt.subplots()\n",
    "ax1.scatter(x = player_count,\n",
    "            y = studio_layoffs)\n",
    "\n",
    "ax1.set_title('Relationship between Layoffs At a Studio \\n and Player Count Increases / Decreases')\n",
    "ax1.set_xlabel('Player Count Difference')\n",
    "ax1.set_ylabel('Layoffs')\n",
    "matplotlib.pyplot.xlim(, b)\n",
    "plt.show()"
   ]
  },
  {
   "cell_type": "markdown",
   "id": "dd189447",
   "metadata": {},
   "source": [
    "## T-Test\n",
    "### I want to use a t-test to see if there is any statistical significance to the data I've collected. If the p-value is less than 0.05 then I will know that my data is related and significant, but if it is greater than the 0.05 then I will know that there is little significance the data."
   ]
  },
  {
   "cell_type": "code",
   "execution_count": 83,
   "id": "5b682e52",
   "metadata": {},
   "outputs": [
    {
     "data": {
      "text/plain": [
       "TtestResult(statistic=-1.4338815645041165, pvalue=0.17356259247860667, df=14.0)"
      ]
     },
     "execution_count": 83,
     "metadata": {},
     "output_type": "execute_result"
    }
   ],
   "source": [
    "stats.ttest_ind(player_count, studio_layoffs)"
   ]
  },
  {
   "cell_type": "code",
   "execution_count": null,
   "id": "209620cc",
   "metadata": {},
   "outputs": [],
   "source": []
  }
 ],
 "metadata": {
  "kernelspec": {
   "display_name": "Python 3 (ipykernel)",
   "language": "python",
   "name": "python3"
  },
  "language_info": {
   "codemirror_mode": {
    "name": "ipython",
    "version": 3
   },
   "file_extension": ".py",
   "mimetype": "text/x-python",
   "name": "python",
   "nbconvert_exporter": "python",
   "pygments_lexer": "ipython3",
   "version": "3.11.4"
  }
 },
 "nbformat": 4,
 "nbformat_minor": 5
}

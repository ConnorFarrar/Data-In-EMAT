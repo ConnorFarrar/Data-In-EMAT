{
 "cells": [
  {
   "cell_type": "markdown",
   "id": "d6cd93ca",
   "metadata": {},
   "source": [
    "# 'Likes' Report\n",
    "## Connor Farrar, 9/15/23\n",
    "\n",
    "## Theory\n",
    "\n",
    "A majority of the user's likes will be concentrated on posts made by around four or five 'favorite' accounts. If a user frequently visits a certain account, they are more likely to like the posts on those frequently visited accounts rather than miscellanious posts by random accounts.\n",
    "\n",
    "Theoretically, I believe that users are more likely to like posts made by their select 'favorite' acounts (people they follow or acoutns they frequently look at) rather than just liking randmom posts they scroll past. This can be measured by how many likes a are attributed to a certain acount. If four or five acounts are attributed with the majority of total likes, then my thoery is correct.  \n",
    "\n",
    "\n",
    "The liked_posts.json file is best for finding this data as it displays how many likes are attributed to specific acounts. This is the exact data I need in order to test my hypothesis."
   ]
  },
  {
   "cell_type": "markdown",
   "id": "1b60d10f",
   "metadata": {},
   "source": [
    "## Data Reliabality\n",
    "\n",
    "### Who collected this data?\n",
    "\n",
    "This data was collected by an algorithm designed by Instagram. \n",
    "\n",
    "### Why was this data collected?\n",
    "\n",
    "This data was collected because I, the user, requested it to be collected for me.\n",
    "\n",
    "### In what ways may this data be reliable?\n",
    "\n",
    "If the data is taken straight from my Instagram account and is accurate, then it is at least somewhat reliable.  \n",
    "\n",
    "### In what ways may this data be unreliable?\n",
    "\n",
    "The data I downloaded is unreliable in many ways. Most noticably, the data does not match the data seen on my Instagram acount. The data provided by Instagram is incomplete, wiht many of the different files only containing a portion of the data that I would expect. For example, the liked_posts.json file only lists one liked post. However, on the instagram app my account is listed as having nine seperate liked posts. The following.json file only lists two acounts that I am following yet the Instagram app shows me following 27 different acounts. \n",
    "\n",
    "These examples show that the information I downloaded is unreliable, but it also points to the overall system being unreliable. If the data I downloaded through Instagram's process is inccorrect, then not only is my data unreliable but also Instagram's download system itself. Whatever algorithm or system Instagram uses to provide users with their data to download is possibly unreliable. In my case, I have very little data that I need to compare in order to find differences between the data displayed on the app and the data I downloaded. However, for user's with larger quantities of data that discrepency may not be so obvious. User's who have hundreds or thousands of liked posts may not be able to identify any discrepencies in their downloaded data due to the sheer quantity they would have to sift through. So in some cases, user's may have downloaded unreliable data without ever knowing it.\n",
    "\n",
    "This all points to the data provided by Instagram being unreliable. If the algorithm used to provide user's data made a mistake once, it is reasonable to assume that it may happen again."
   ]
  },
  {
   "cell_type": "code",
   "execution_count": 77,
   "id": "758c6345",
   "metadata": {},
   "outputs": [],
   "source": [
    "import pandas as pd\n",
    "import json"
   ]
  },
  {
   "cell_type": "markdown",
   "id": "746e482e",
   "metadata": {},
   "source": [
    "After importing pandas, create a dictionary labeled likes_report using the filepath to the 'likes' data downloaded form Instagram."
   ]
  },
  {
   "cell_type": "code",
   "execution_count": 78,
   "id": "40a71257",
   "metadata": {},
   "outputs": [],
   "source": [
    "with open('/Users/tallconnor/Desktop/Data In EMAT/Social Media Info/Instagram/connormfarrar_20230904/likes/liked_posts.json') as j:\n",
    "    likes_report = json.load(j)"
   ]
  },
  {
   "cell_type": "markdown",
   "id": "170c564d",
   "metadata": {},
   "source": [
    "Call likes_report to visualize whats included in the dictionary and then call llikes_report.keys() to display all the keys in that dictionary."
   ]
  },
  {
   "cell_type": "code",
   "execution_count": 79,
   "id": "6fcedd50",
   "metadata": {},
   "outputs": [
    {
     "data": {
      "text/plain": [
       "{'likes_media_likes': [{'title': 'connormfarrar',\n",
       "   'string_list_data': [{'href': 'https://www.instagram.com/p/CrZdvv6Ls4o/',\n",
       "     'value': 'ð\\x9f\\x91\\x8d',\n",
       "     'timestamp': 1682294357}]}]}"
      ]
     },
     "execution_count": 79,
     "metadata": {},
     "output_type": "execute_result"
    }
   ],
   "source": [
    "likes_report"
   ]
  },
  {
   "cell_type": "code",
   "execution_count": 80,
   "id": "05c3e268",
   "metadata": {},
   "outputs": [
    {
     "data": {
      "text/plain": [
       "dict_keys(['likes_media_likes'])"
      ]
     },
     "execution_count": 80,
     "metadata": {},
     "output_type": "execute_result"
    }
   ],
   "source": [
    "likes_report.keys()"
   ]
  },
  {
   "cell_type": "markdown",
   "id": "5511106f",
   "metadata": {},
   "source": [
    "Call likes_report using the 'likes_media_likes' key seen above to simplify the dictionary."
   ]
  },
  {
   "cell_type": "code",
   "execution_count": 81,
   "id": "c94bd494",
   "metadata": {},
   "outputs": [
    {
     "data": {
      "text/plain": [
       "[{'title': 'connormfarrar',\n",
       "  'string_list_data': [{'href': 'https://www.instagram.com/p/CrZdvv6Ls4o/',\n",
       "    'value': 'ð\\x9f\\x91\\x8d',\n",
       "    'timestamp': 1682294357}]}]"
      ]
     },
     "execution_count": 81,
     "metadata": {},
     "output_type": "execute_result"
    }
   ],
   "source": [
    "likes_report['likes_media_likes']"
   ]
  },
  {
   "cell_type": "markdown",
   "id": "7d0dd4cf",
   "metadata": {},
   "source": [
    "Create a data frame from the likes_report dictionary using the 'likes_media_likes' key again, labeled likes_time.\n",
    "\n",
    "Then call that data frame to visualize it."
   ]
  },
  {
   "cell_type": "code",
   "execution_count": 82,
   "id": "3964f5d4",
   "metadata": {},
   "outputs": [],
   "source": [
    "likes_time = pd.DataFrame(likes_report['likes_media_likes'])"
   ]
  },
  {
   "cell_type": "code",
   "execution_count": 83,
   "id": "4243906b",
   "metadata": {},
   "outputs": [
    {
     "data": {
      "text/html": [
       "<div>\n",
       "<style scoped>\n",
       "    .dataframe tbody tr th:only-of-type {\n",
       "        vertical-align: middle;\n",
       "    }\n",
       "\n",
       "    .dataframe tbody tr th {\n",
       "        vertical-align: top;\n",
       "    }\n",
       "\n",
       "    .dataframe thead th {\n",
       "        text-align: right;\n",
       "    }\n",
       "</style>\n",
       "<table border=\"1\" class=\"dataframe\">\n",
       "  <thead>\n",
       "    <tr style=\"text-align: right;\">\n",
       "      <th></th>\n",
       "      <th>title</th>\n",
       "      <th>string_list_data</th>\n",
       "    </tr>\n",
       "  </thead>\n",
       "  <tbody>\n",
       "    <tr>\n",
       "      <th>0</th>\n",
       "      <td>connormfarrar</td>\n",
       "      <td>[{'href': 'https://www.instagram.com/p/CrZdvv6...</td>\n",
       "    </tr>\n",
       "  </tbody>\n",
       "</table>\n",
       "</div>"
      ],
      "text/plain": [
       "           title                                   string_list_data\n",
       "0  connormfarrar  [{'href': 'https://www.instagram.com/p/CrZdvv6..."
      ]
     },
     "execution_count": 83,
     "metadata": {},
     "output_type": "execute_result"
    }
   ],
   "source": [
    "likes_time"
   ]
  },
  {
   "cell_type": "markdown",
   "id": "fe10c341",
   "metadata": {},
   "source": [
    "In order to add a timestamps column, there needs to be a way to call the timestamps value from the dictionary despite it not being a key. In order to do this, set time_list as the timestamps from the likes_report dict.  "
   ]
  },
  {
   "cell_type": "code",
   "execution_count": 84,
   "id": "08621cde",
   "metadata": {},
   "outputs": [],
   "source": [
    "time_list = [x['string_list_data'][0]['timestamp'] for x in likes_report['likes_media_likes']]"
   ]
  },
  {
   "cell_type": "markdown",
   "id": "0ec76467",
   "metadata": {},
   "source": [
    "Add timestamps as a column in the data frame."
   ]
  },
  {
   "cell_type": "code",
   "execution_count": 85,
   "id": "112e1830",
   "metadata": {},
   "outputs": [],
   "source": [
    "likes_time['timestamps'] = time_list"
   ]
  },
  {
   "cell_type": "code",
   "execution_count": 86,
   "id": "504c8543",
   "metadata": {},
   "outputs": [
    {
     "data": {
      "text/html": [
       "<div>\n",
       "<style scoped>\n",
       "    .dataframe tbody tr th:only-of-type {\n",
       "        vertical-align: middle;\n",
       "    }\n",
       "\n",
       "    .dataframe tbody tr th {\n",
       "        vertical-align: top;\n",
       "    }\n",
       "\n",
       "    .dataframe thead th {\n",
       "        text-align: right;\n",
       "    }\n",
       "</style>\n",
       "<table border=\"1\" class=\"dataframe\">\n",
       "  <thead>\n",
       "    <tr style=\"text-align: right;\">\n",
       "      <th></th>\n",
       "      <th>title</th>\n",
       "      <th>string_list_data</th>\n",
       "      <th>timestamps</th>\n",
       "    </tr>\n",
       "  </thead>\n",
       "  <tbody>\n",
       "    <tr>\n",
       "      <th>0</th>\n",
       "      <td>connormfarrar</td>\n",
       "      <td>[{'href': 'https://www.instagram.com/p/CrZdvv6...</td>\n",
       "      <td>1682294357</td>\n",
       "    </tr>\n",
       "  </tbody>\n",
       "</table>\n",
       "</div>"
      ],
      "text/plain": [
       "           title                                   string_list_data  \\\n",
       "0  connormfarrar  [{'href': 'https://www.instagram.com/p/CrZdvv6...   \n",
       "\n",
       "   timestamps  \n",
       "0  1682294357  "
      ]
     },
     "execution_count": 86,
     "metadata": {},
     "output_type": "execute_result"
    }
   ],
   "source": [
    "likes_time"
   ]
  },
  {
   "cell_type": "markdown",
   "id": "f92ee69d",
   "metadata": {},
   "source": [
    "Count the data under the string_list_data and timestamps lists and display those values next to their associated title. \n",
    "\n",
    ".groupby('title') sets the title list as the main column and then lists the other values collected by .count() that are associated with each title in the following columns."
   ]
  },
  {
   "cell_type": "code",
   "execution_count": 87,
   "id": "0f22ada9",
   "metadata": {},
   "outputs": [
    {
     "data": {
      "text/html": [
       "<div>\n",
       "<style scoped>\n",
       "    .dataframe tbody tr th:only-of-type {\n",
       "        vertical-align: middle;\n",
       "    }\n",
       "\n",
       "    .dataframe tbody tr th {\n",
       "        vertical-align: top;\n",
       "    }\n",
       "\n",
       "    .dataframe thead th {\n",
       "        text-align: right;\n",
       "    }\n",
       "</style>\n",
       "<table border=\"1\" class=\"dataframe\">\n",
       "  <thead>\n",
       "    <tr style=\"text-align: right;\">\n",
       "      <th></th>\n",
       "      <th>string_list_data</th>\n",
       "      <th>timestamps</th>\n",
       "    </tr>\n",
       "    <tr>\n",
       "      <th>title</th>\n",
       "      <th></th>\n",
       "      <th></th>\n",
       "    </tr>\n",
       "  </thead>\n",
       "  <tbody>\n",
       "    <tr>\n",
       "      <th>connormfarrar</th>\n",
       "      <td>1</td>\n",
       "      <td>1</td>\n",
       "    </tr>\n",
       "  </tbody>\n",
       "</table>\n",
       "</div>"
      ],
      "text/plain": [
       "               string_list_data  timestamps\n",
       "title                                      \n",
       "connormfarrar                 1           1"
      ]
     },
     "execution_count": 87,
     "metadata": {},
     "output_type": "execute_result"
    }
   ],
   "source": [
    "likes_time.groupby('title').count()"
   ]
  },
  {
   "cell_type": "markdown",
   "id": "74981d62",
   "metadata": {},
   "source": [
    "## What the Data Says About My Thoery\n",
    "\n",
    "With the data available to me it's not possible to thoroughly test my theory. Although taken at face value, my hypothesis is wrong since all the likes shown in my data are centered on one account, not four or five. However, the data I received is unreliable, so any conclusions drawn from the data are also unreliable. \n",
    "\n",
    "In order to properly assess my thoery I would need to collect a more full data set. Since the data I was working with was incomplete, I could not fully test my theory. So as a next step, I would gather a more full and reliable data set on which to test my theory.\n",
    "\n",
    "If I were to further investigate my hypothesis, then I would look to the 'following' data. I wuld be looking to see if the user's likes are focused on followed accounts in place of 'favorite' accounts."
   ]
  },
  {
   "cell_type": "markdown",
   "id": "40ab28ed",
   "metadata": {},
   "source": [
    "### ------------------------------------------------------"
   ]
  },
  {
   "cell_type": "markdown",
   "id": "c8ba55df",
   "metadata": {},
   "source": [
    "## Extra Work (Provided Data)"
   ]
  },
  {
   "cell_type": "code",
   "execution_count": 88,
   "id": "577dac1f",
   "metadata": {},
   "outputs": [],
   "source": [
    "with open ('/Users/tallconnor/Desktop/Data In EMAT/Social Media Info/Provided Data/technogecko_20200714_toshare/likes.json') as j2:\n",
    "    extra_report = json.load(j2)"
   ]
  },
  {
   "cell_type": "code",
   "execution_count": 89,
   "id": "797084e0",
   "metadata": {},
   "outputs": [],
   "source": [
    "extra_frame = pd.DataFrame(extra_report['media_likes'])"
   ]
  },
  {
   "cell_type": "code",
   "execution_count": 90,
   "id": "ebd53906",
   "metadata": {},
   "outputs": [
    {
     "data": {
      "text/html": [
       "<div>\n",
       "<style scoped>\n",
       "    .dataframe tbody tr th:only-of-type {\n",
       "        vertical-align: middle;\n",
       "    }\n",
       "\n",
       "    .dataframe tbody tr th {\n",
       "        vertical-align: top;\n",
       "    }\n",
       "\n",
       "    .dataframe thead th {\n",
       "        text-align: right;\n",
       "    }\n",
       "</style>\n",
       "<table border=\"1\" class=\"dataframe\">\n",
       "  <thead>\n",
       "    <tr style=\"text-align: right;\">\n",
       "      <th></th>\n",
       "      <th>0</th>\n",
       "      <th>1</th>\n",
       "    </tr>\n",
       "  </thead>\n",
       "  <tbody>\n",
       "    <tr>\n",
       "      <th>0</th>\n",
       "      <td>2020-07-11T04:39:28+00:00</td>\n",
       "      <td>ball_doesnt_lie</td>\n",
       "    </tr>\n",
       "    <tr>\n",
       "      <th>1</th>\n",
       "      <td>2020-07-11T04:39:05+00:00</td>\n",
       "      <td>ball_doesnt_lie</td>\n",
       "    </tr>\n",
       "    <tr>\n",
       "      <th>2</th>\n",
       "      <td>2020-07-05T17:25:44+00:00</td>\n",
       "      <td>ali_saurusrex</td>\n",
       "    </tr>\n",
       "    <tr>\n",
       "      <th>3</th>\n",
       "      <td>2020-07-03T03:40:02+00:00</td>\n",
       "      <td>cacandassociates</td>\n",
       "    </tr>\n",
       "    <tr>\n",
       "      <th>4</th>\n",
       "      <td>2020-06-25T17:41:50+00:00</td>\n",
       "      <td>cacandassociates</td>\n",
       "    </tr>\n",
       "    <tr>\n",
       "      <th>...</th>\n",
       "      <td>...</td>\n",
       "      <td>...</td>\n",
       "    </tr>\n",
       "    <tr>\n",
       "      <th>330</th>\n",
       "      <td>2013-02-05T02:58:46+00:00</td>\n",
       "      <td>natgeo</td>\n",
       "    </tr>\n",
       "    <tr>\n",
       "      <th>331</th>\n",
       "      <td>2013-02-05T02:22:24+00:00</td>\n",
       "      <td>aroseroar16</td>\n",
       "    </tr>\n",
       "    <tr>\n",
       "      <th>332</th>\n",
       "      <td>2013-02-05T01:29:31+00:00</td>\n",
       "      <td>aroseroar16</td>\n",
       "    </tr>\n",
       "    <tr>\n",
       "      <th>333</th>\n",
       "      <td>2013-02-04T17:42:04+00:00</td>\n",
       "      <td>ali_saurusrex</td>\n",
       "    </tr>\n",
       "    <tr>\n",
       "      <th>334</th>\n",
       "      <td>2013-02-04T17:39:15+00:00</td>\n",
       "      <td>a_matt_silva</td>\n",
       "    </tr>\n",
       "  </tbody>\n",
       "</table>\n",
       "<p>335 rows × 2 columns</p>\n",
       "</div>"
      ],
      "text/plain": [
       "                             0                 1\n",
       "0    2020-07-11T04:39:28+00:00   ball_doesnt_lie\n",
       "1    2020-07-11T04:39:05+00:00   ball_doesnt_lie\n",
       "2    2020-07-05T17:25:44+00:00     ali_saurusrex\n",
       "3    2020-07-03T03:40:02+00:00  cacandassociates\n",
       "4    2020-06-25T17:41:50+00:00  cacandassociates\n",
       "..                         ...               ...\n",
       "330  2013-02-05T02:58:46+00:00            natgeo\n",
       "331  2013-02-05T02:22:24+00:00       aroseroar16\n",
       "332  2013-02-05T01:29:31+00:00       aroseroar16\n",
       "333  2013-02-04T17:42:04+00:00     ali_saurusrex\n",
       "334  2013-02-04T17:39:15+00:00      a_matt_silva\n",
       "\n",
       "[335 rows x 2 columns]"
      ]
     },
     "execution_count": 90,
     "metadata": {},
     "output_type": "execute_result"
    }
   ],
   "source": [
    "extra_frame"
   ]
  },
  {
   "cell_type": "code",
   "execution_count": 91,
   "id": "34f3f89b",
   "metadata": {},
   "outputs": [
    {
     "data": {
      "text/html": [
       "<div>\n",
       "<style scoped>\n",
       "    .dataframe tbody tr th:only-of-type {\n",
       "        vertical-align: middle;\n",
       "    }\n",
       "\n",
       "    .dataframe tbody tr th {\n",
       "        vertical-align: top;\n",
       "    }\n",
       "\n",
       "    .dataframe thead th {\n",
       "        text-align: right;\n",
       "    }\n",
       "</style>\n",
       "<table border=\"1\" class=\"dataframe\">\n",
       "  <thead>\n",
       "    <tr style=\"text-align: right;\">\n",
       "      <th></th>\n",
       "      <th>0</th>\n",
       "    </tr>\n",
       "    <tr>\n",
       "      <th>1</th>\n",
       "      <th></th>\n",
       "    </tr>\n",
       "  </thead>\n",
       "  <tbody>\n",
       "    <tr>\n",
       "      <th>a_matt_silva</th>\n",
       "      <td>18</td>\n",
       "    </tr>\n",
       "    <tr>\n",
       "      <th>ali_saurusrex</th>\n",
       "      <td>68</td>\n",
       "    </tr>\n",
       "    <tr>\n",
       "      <th>andrewtcurry</th>\n",
       "      <td>1</td>\n",
       "    </tr>\n",
       "    <tr>\n",
       "      <th>aroseroar16</th>\n",
       "      <td>29</td>\n",
       "    </tr>\n",
       "    <tr>\n",
       "      <th>athenalemon</th>\n",
       "      <td>1</td>\n",
       "    </tr>\n",
       "    <tr>\n",
       "      <th>ball_doesnt_lie</th>\n",
       "      <td>2</td>\n",
       "    </tr>\n",
       "    <tr>\n",
       "      <th>bianchi_usa</th>\n",
       "      <td>2</td>\n",
       "    </tr>\n",
       "    <tr>\n",
       "      <th>bsnder</th>\n",
       "      <td>5</td>\n",
       "    </tr>\n",
       "    <tr>\n",
       "      <th>cacandassociates</th>\n",
       "      <td>15</td>\n",
       "    </tr>\n",
       "    <tr>\n",
       "      <th>camecol501</th>\n",
       "      <td>2</td>\n",
       "    </tr>\n",
       "    <tr>\n",
       "      <th>carswithoutlimits</th>\n",
       "      <td>1</td>\n",
       "    </tr>\n",
       "    <tr>\n",
       "      <th>catsandkilos</th>\n",
       "      <td>1</td>\n",
       "    </tr>\n",
       "    <tr>\n",
       "      <th>cbarker13</th>\n",
       "      <td>9</td>\n",
       "    </tr>\n",
       "    <tr>\n",
       "      <th>colin_storm</th>\n",
       "      <td>11</td>\n",
       "    </tr>\n",
       "    <tr>\n",
       "      <th>danneabreanne</th>\n",
       "      <td>13</td>\n",
       "    </tr>\n",
       "    <tr>\n",
       "      <th>drchadlarson</th>\n",
       "      <td>10</td>\n",
       "    </tr>\n",
       "    <tr>\n",
       "      <th>emmyr0o</th>\n",
       "      <td>16</td>\n",
       "    </tr>\n",
       "    <tr>\n",
       "      <th>favoritedekruyfonthecitadel</th>\n",
       "      <td>4</td>\n",
       "    </tr>\n",
       "    <tr>\n",
       "      <th>holly.berry_22</th>\n",
       "      <td>1</td>\n",
       "    </tr>\n",
       "    <tr>\n",
       "      <th>ibiscycles</th>\n",
       "      <td>1</td>\n",
       "    </tr>\n",
       "    <tr>\n",
       "      <th>inalull</th>\n",
       "      <td>10</td>\n",
       "    </tr>\n",
       "    <tr>\n",
       "      <th>jackie.cc</th>\n",
       "      <td>9</td>\n",
       "    </tr>\n",
       "    <tr>\n",
       "      <th>jennjohnn</th>\n",
       "      <td>3</td>\n",
       "    </tr>\n",
       "    <tr>\n",
       "      <th>jessicaajeean</th>\n",
       "      <td>2</td>\n",
       "    </tr>\n",
       "    <tr>\n",
       "      <th>jhushlordofthesith</th>\n",
       "      <td>1</td>\n",
       "    </tr>\n",
       "    <tr>\n",
       "      <th>johnnydhampton</th>\n",
       "      <td>1</td>\n",
       "    </tr>\n",
       "    <tr>\n",
       "      <th>jsevier</th>\n",
       "      <td>1</td>\n",
       "    </tr>\n",
       "    <tr>\n",
       "      <th>kateblarson</th>\n",
       "      <td>2</td>\n",
       "    </tr>\n",
       "    <tr>\n",
       "      <th>kellyc00k</th>\n",
       "      <td>1</td>\n",
       "    </tr>\n",
       "    <tr>\n",
       "      <th>leleebabe</th>\n",
       "      <td>3</td>\n",
       "    </tr>\n",
       "    <tr>\n",
       "      <th>lewkmiller</th>\n",
       "      <td>2</td>\n",
       "    </tr>\n",
       "    <tr>\n",
       "      <th>melissarohwer</th>\n",
       "      <td>1</td>\n",
       "    </tr>\n",
       "    <tr>\n",
       "      <th>meredith.wang</th>\n",
       "      <td>9</td>\n",
       "    </tr>\n",
       "    <tr>\n",
       "      <th>miles_sari</th>\n",
       "      <td>3</td>\n",
       "    </tr>\n",
       "    <tr>\n",
       "      <th>mtb_crohnert92</th>\n",
       "      <td>5</td>\n",
       "    </tr>\n",
       "    <tr>\n",
       "      <th>mycaninelife</th>\n",
       "      <td>2</td>\n",
       "    </tr>\n",
       "    <tr>\n",
       "      <th>natgeo</th>\n",
       "      <td>1</td>\n",
       "    </tr>\n",
       "    <tr>\n",
       "      <th>odonnellnic</th>\n",
       "      <td>1</td>\n",
       "    </tr>\n",
       "    <tr>\n",
       "      <th>orangekoala2</th>\n",
       "      <td>27</td>\n",
       "    </tr>\n",
       "    <tr>\n",
       "      <th>phd_comics</th>\n",
       "      <td>1</td>\n",
       "    </tr>\n",
       "    <tr>\n",
       "      <th>poorlydrawnlines</th>\n",
       "      <td>2</td>\n",
       "    </tr>\n",
       "    <tr>\n",
       "      <th>priscillaannnnn</th>\n",
       "      <td>3</td>\n",
       "    </tr>\n",
       "    <tr>\n",
       "      <th>reams_esq</th>\n",
       "      <td>16</td>\n",
       "    </tr>\n",
       "    <tr>\n",
       "      <th>rockymountainbicycles</th>\n",
       "      <td>1</td>\n",
       "    </tr>\n",
       "    <tr>\n",
       "      <th>rskinner90</th>\n",
       "      <td>1</td>\n",
       "    </tr>\n",
       "    <tr>\n",
       "      <th>samrosehill</th>\n",
       "      <td>2</td>\n",
       "    </tr>\n",
       "    <tr>\n",
       "      <th>samuel.rhodes</th>\n",
       "      <td>2</td>\n",
       "    </tr>\n",
       "    <tr>\n",
       "      <th>shaunacoxsey</th>\n",
       "      <td>1</td>\n",
       "    </tr>\n",
       "    <tr>\n",
       "      <th>silva_c097</th>\n",
       "      <td>3</td>\n",
       "    </tr>\n",
       "    <tr>\n",
       "      <th>slemdawgmillionaire</th>\n",
       "      <td>1</td>\n",
       "    </tr>\n",
       "    <tr>\n",
       "      <th>sp4zie</th>\n",
       "      <td>1</td>\n",
       "    </tr>\n",
       "    <tr>\n",
       "      <th>theradavist</th>\n",
       "      <td>1</td>\n",
       "    </tr>\n",
       "    <tr>\n",
       "      <th>thesignpad</th>\n",
       "      <td>1</td>\n",
       "    </tr>\n",
       "    <tr>\n",
       "      <th>transitionbikes</th>\n",
       "      <td>1</td>\n",
       "    </tr>\n",
       "    <tr>\n",
       "      <th>tslemmer</th>\n",
       "      <td>2</td>\n",
       "    </tr>\n",
       "    <tr>\n",
       "      <th>vitalmtb</th>\n",
       "      <td>1</td>\n",
       "    </tr>\n",
       "    <tr>\n",
       "      <th>wrenchscienceusa</th>\n",
       "      <td>1</td>\n",
       "    </tr>\n",
       "  </tbody>\n",
       "</table>\n",
       "</div>"
      ],
      "text/plain": [
       "                              0\n",
       "1                              \n",
       "a_matt_silva                 18\n",
       "ali_saurusrex                68\n",
       "andrewtcurry                  1\n",
       "aroseroar16                  29\n",
       "athenalemon                   1\n",
       "ball_doesnt_lie               2\n",
       "bianchi_usa                   2\n",
       "bsnder                        5\n",
       "cacandassociates             15\n",
       "camecol501                    2\n",
       "carswithoutlimits             1\n",
       "catsandkilos                  1\n",
       "cbarker13                     9\n",
       "colin_storm                  11\n",
       "danneabreanne                13\n",
       "drchadlarson                 10\n",
       "emmyr0o                      16\n",
       "favoritedekruyfonthecitadel   4\n",
       "holly.berry_22                1\n",
       "ibiscycles                    1\n",
       "inalull                      10\n",
       "jackie.cc                     9\n",
       "jennjohnn                     3\n",
       "jessicaajeean                 2\n",
       "jhushlordofthesith            1\n",
       "johnnydhampton                1\n",
       "jsevier                       1\n",
       "kateblarson                   2\n",
       "kellyc00k                     1\n",
       "leleebabe                     3\n",
       "lewkmiller                    2\n",
       "melissarohwer                 1\n",
       "meredith.wang                 9\n",
       "miles_sari                    3\n",
       "mtb_crohnert92                5\n",
       "mycaninelife                  2\n",
       "natgeo                        1\n",
       "odonnellnic                   1\n",
       "orangekoala2                 27\n",
       "phd_comics                    1\n",
       "poorlydrawnlines              2\n",
       "priscillaannnnn               3\n",
       "reams_esq                    16\n",
       "rockymountainbicycles         1\n",
       "rskinner90                    1\n",
       "samrosehill                   2\n",
       "samuel.rhodes                 2\n",
       "shaunacoxsey                  1\n",
       "silva_c097                    3\n",
       "slemdawgmillionaire           1\n",
       "sp4zie                        1\n",
       "theradavist                   1\n",
       "thesignpad                    1\n",
       "transitionbikes               1\n",
       "tslemmer                      2\n",
       "vitalmtb                      1\n",
       "wrenchscienceusa              1"
      ]
     },
     "execution_count": 91,
     "metadata": {},
     "output_type": "execute_result"
    }
   ],
   "source": [
    "extra_frame.groupby(1).count()"
   ]
  }
 ],
 "metadata": {
  "kernelspec": {
   "display_name": "Python 3 (ipykernel)",
   "language": "python",
   "name": "python3"
  },
  "language_info": {
   "codemirror_mode": {
    "name": "ipython",
    "version": 3
   },
   "file_extension": ".py",
   "mimetype": "text/x-python",
   "name": "python",
   "nbconvert_exporter": "python",
   "pygments_lexer": "ipython3",
   "version": "3.11.4"
  }
 },
 "nbformat": 4,
 "nbformat_minor": 5
}
